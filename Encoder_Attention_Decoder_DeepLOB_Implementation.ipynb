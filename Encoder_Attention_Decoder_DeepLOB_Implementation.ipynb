{
  "nbformat": 4,
  "nbformat_minor": 0,
  "metadata": {
    "colab": {
      "provenance": [],
      "gpuType": "T4"
    },
    "kernelspec": {
      "name": "python3",
      "display_name": "Python 3"
    },
    "language_info": {
      "name": "python"
    },
    "accelerator": "GPU"
  },
  "cells": [
    {
      "cell_type": "code",
      "execution_count": null,
      "metadata": {
        "id": "HE8wSgKA-zUK",
        "colab": {
          "base_uri": "https://localhost:8080/"
        },
        "outputId": "d104003e-c971-44ae-fb4f-44c96d4c69c5"
      },
      "outputs": [
        {
          "output_type": "stream",
          "name": "stdout",
          "text": [
            "Mounted at /content/drive\n"
          ]
        }
      ],
      "source": [
        "from google.colab import drive\n",
        "drive.mount('/content/drive')"
      ]
    },
    {
      "cell_type": "code",
      "source": [
        "import torch\n",
        "device = torch.device(\"cuda:0\" if torch.cuda.is_available() else \"cpu\")\n",
        "print(device)"
      ],
      "metadata": {
        "colab": {
          "base_uri": "https://localhost:8080/"
        },
        "id": "eD5q_zh7Axpd",
        "outputId": "44df3bab-9243-420a-bc82-2631b63ec9b8"
      },
      "execution_count": null,
      "outputs": [
        {
          "output_type": "stream",
          "name": "stdout",
          "text": [
            "cuda:0\n"
          ]
        }
      ]
    },
    {
      "cell_type": "code",
      "source": [
        "import numpy as np\n",
        "\n",
        "dec_data = np.loadtxt('/content/drive/MyDrive/Copy of Train_Dst_NoAuction_DecPre_CF_7.txt')\n",
        "dec_train = dec_data[:, :int(np.floor(dec_data.shape[1] * 0.8))]\n",
        "dec_val = dec_data[:, int(np.floor(dec_data.shape[1] * 0.8)):]\n",
        "\n",
        "dec_test1 = np.loadtxt('/content/drive/MyDrive/Copy of Test_Dst_NoAuction_DecPre_CF_7.txt')\n",
        "dec_test2 = np.loadtxt('/content/drive/MyDrive/Copy of Test_Dst_NoAuction_DecPre_CF_8.txt')\n",
        "dec_test3 = np.loadtxt('/content/drive/MyDrive/Copy of Test_Dst_NoAuction_DecPre_CF_8.txt')\n",
        "dec_test = np.hstack((dec_test1, dec_test2, dec_test3))\n",
        "\n",
        "print(dec_data.shape)\n",
        "print(dec_train.shape)\n",
        "print(dec_val.shape)\n",
        "print(dec_test.shape)"
      ],
      "metadata": {
        "colab": {
          "base_uri": "https://localhost:8080/"
        },
        "id": "M9qS_jUeA0l4",
        "outputId": "a011145c-109f-4156-fea0-64706b97aab6"
      },
      "execution_count": null,
      "outputs": [
        {
          "output_type": "stream",
          "name": "stdout",
          "text": [
            "(149, 254750)\n",
            "(149, 203800)\n",
            "(149, 50950)\n",
            "(149, 159822)\n"
          ]
        }
      ]
    },
    {
      "cell_type": "code",
      "source": [
        "# load packages\n",
        "import pandas as pd\n",
        "import pickle\n",
        "import numpy as np\n",
        "import keras\n",
        "import tensorflow as tf\n",
        "from keras import backend as K\n",
        "from keras.models import load_model, Model\n",
        "from keras.layers import Flatten, Dense, Dropout, Activation, Input, LSTM, Reshape, Conv2D, MaxPooling2D\n",
        "from keras.optimizers import Adam\n",
        "from keras.layers import LeakyReLU\n",
        "# from keras.layers.advanced_activations import LeakyReLU\n",
        "from keras.utils import to_categorical\n",
        "# from keras.utils import np_utils\n",
        "\n",
        "from sklearn.metrics import classification_report, accuracy_score\n",
        "import matplotlib.pyplot as plt\n",
        "\n",
        "# set random seeds\n",
        "np.random.seed(1)\n",
        "tf.random.set_seed(2)"
      ],
      "metadata": {
        "id": "QoQe5U4yBOTP"
      },
      "execution_count": null,
      "outputs": []
    },
    {
      "cell_type": "code",
      "source": [
        "def prepare_x(data):\n",
        "    df1 = data[:40, :].T\n",
        "    return np.array(df1)\n",
        "\n",
        "def get_label(data):\n",
        "    lob = data[-5:, :].T\n",
        "    return lob\n",
        "\n",
        "def data_classification(X, Y, T):\n",
        "    [N, D] = X.shape\n",
        "    df = np.array(X)\n",
        "    dY = np.array(Y)\n",
        "    dataY = dY[T - 1:N]\n",
        "    dataX = np.zeros((N - T + 1, T, D))\n",
        "    for i in range(T, N + 1):\n",
        "        dataX[i - T] = df[i - T:i, :]\n",
        "    return dataX.reshape(dataX.shape + (1,)), dataY\n",
        "\n",
        "def prepare_x_y(data, k, T):\n",
        "    x = prepare_x(data)\n",
        "    y = get_label(data)\n",
        "    x, y = data_classification(x, y, T=T)\n",
        "    y = y[:,k] - 1\n",
        "    y = to_categorical(y, 3)\n",
        "    return x, y"
      ],
      "metadata": {
        "id": "5a1ZNnSjBQ7q"
      },
      "execution_count": null,
      "outputs": []
    },
    {
      "cell_type": "code",
      "source": [
        "import tensorflow as tf\n",
        "from tensorflow.keras.layers import Layer\n",
        "\n",
        "class AttentionLayer(Layer):\n",
        "    def __init__(self, **kwargs):\n",
        "        super(AttentionLayer, self).__init__(**kwargs)\n",
        "\n",
        "    def build(self, input_shape):\n",
        "        # Create a trainable weight variable for this layer.\n",
        "        self.W = self.add_weight(name='attention_weight',\n",
        "                                 shape=(input_shape[-1], input_shape[-1]),\n",
        "                                 initializer='random_normal',\n",
        "                                 trainable=True)\n",
        "        super(AttentionLayer, self).build(input_shape)\n",
        "\n",
        "    def call(self, x):\n",
        "        # Calculate attention scores\n",
        "        e = tf.keras.backend.dot(x, self.W)\n",
        "\n",
        "        # Calculate attention weights using softmax activation\n",
        "        a = tf.keras.activations.softmax(e, axis=-2)\n",
        "\n",
        "        # Apply attention weights to the input sequence\n",
        "        output = x * a\n",
        "\n",
        "        # Sum the weighted inputs to get the attention output\n",
        "        output = tf.keras.backend.sum(output, axis=-2)\n",
        "\n",
        "        return output\n",
        "\n",
        "    def compute_output_shape(self, input_shape):\n",
        "        return input_shape\n"
      ],
      "metadata": {
        "id": "r4FvlMRHGm97"
      },
      "execution_count": null,
      "outputs": []
    },
    {
      "cell_type": "code",
      "source": [
        "k = 4 # which prediction horizon\n",
        "T = 10 # the length of a single input i. e lookback_timestep THIS HYPERPARAMETER IS FINE TUNED FOR MODEL CONVERGENCE\n",
        "n_hiddens = 64\n",
        "checkpoint_filepath = '/content/drive/MyDrive/path_to_your_model_checkpoints/'\n",
        "# checkpoint_filepath = './model_tensorflow2/weights'"
      ],
      "metadata": {
        "id": "gE7CLstKBSpr"
      },
      "execution_count": null,
      "outputs": []
    },
    {
      "cell_type": "code",
      "source": [
        "# # Training Dataset Shrinking\n",
        "# dec_train = dec_train[:,:50000]\n",
        "print(dec_train.shape)\n",
        "trainX_CNN, trainY_CNN = prepare_x_y(dec_train, k, T)\n",
        "print(trainX_CNN.shape, trainY_CNN.shape)"
      ],
      "metadata": {
        "colab": {
          "base_uri": "https://localhost:8080/"
        },
        "id": "NubSWmNjBWD4",
        "outputId": "d7b04c4d-3179-4566-b3b3-63d1973a6ca9"
      },
      "execution_count": null,
      "outputs": [
        {
          "output_type": "stream",
          "name": "stdout",
          "text": [
            "(149, 203800)\n",
            "(203791, 10, 40, 1) (203791, 3)\n"
          ]
        }
      ]
    },
    {
      "cell_type": "code",
      "source": [
        "# Testing Dataset Shrinking\n",
        "# dec_test = dec_test[:,:20000]\n",
        "print(dec_test.shape)\n",
        "testX_CNN, testY_CNN = prepare_x_y(dec_test, k, T)\n",
        "print(testX_CNN.shape, testY_CNN.shape)"
      ],
      "metadata": {
        "colab": {
          "base_uri": "https://localhost:8080/"
        },
        "id": "bI2kVMq3BYOe",
        "outputId": "14e42588-d304-43a8-b9b2-7debb80f6b52"
      },
      "execution_count": null,
      "outputs": [
        {
          "output_type": "stream",
          "name": "stdout",
          "text": [
            "(149, 159822)\n",
            "(159813, 10, 40, 1) (159813, 3)\n"
          ]
        }
      ]
    },
    {
      "cell_type": "code",
      "source": [
        "\n",
        "# Validation Dataset Shrinking\n",
        "# dec_val = dec_val[:,:10000]\n",
        "print(dec_val.shape)\n",
        "valX_CNN, valY_CNN = prepare_x_y(dec_val, k, T)\n",
        "print(valX_CNN.shape, valY_CNN.shape)"
      ],
      "metadata": {
        "colab": {
          "base_uri": "https://localhost:8080/"
        },
        "id": "d8WN89lWBZ1p",
        "outputId": "981c9946-93ad-4e5c-dcd0-7a9ab06019c2"
      },
      "execution_count": null,
      "outputs": [
        {
          "output_type": "stream",
          "name": "stdout",
          "text": [
            "(149, 50950)\n",
            "(50941, 10, 40, 1) (50941, 3)\n"
          ]
        }
      ]
    },
    {
      "cell_type": "code",
      "source": [
        "print(trainX_CNN.shape, trainY_CNN.shape)\n",
        "print(valX_CNN.shape, valY_CNN.shape)\n",
        "print(testX_CNN.shape, testY_CNN.shape)"
      ],
      "metadata": {
        "colab": {
          "base_uri": "https://localhost:8080/"
        },
        "id": "_vUIbc0zBbvk",
        "outputId": "a61015d4-8b4a-42d3-eaf4-2200bc6e7f2c"
      },
      "execution_count": null,
      "outputs": [
        {
          "output_type": "stream",
          "name": "stdout",
          "text": [
            "(203791, 10, 40, 1) (203791, 3)\n",
            "(50941, 10, 40, 1) (50941, 3)\n",
            "(159813, 10, 40, 1) (159813, 3)\n"
          ]
        }
      ]
    },
    {
      "cell_type": "code",
      "source": [
        "from tensorflow.keras.layers import Bidirectional, LSTM, RepeatVector, TimeDistributed\n",
        "\n",
        "def create_deeplob_encoder_decoder(T, NF, number_of_lstm):\n",
        "    input_lmd = Input(shape=(T, NF, 1))\n",
        "\n",
        "    # build the convolutional block\n",
        "    conv_first1 = Conv2D(32, (1, 2), strides=(1, 2))(input_lmd)\n",
        "    conv_first1 = keras.layers.LeakyReLU(alpha=0.01)(conv_first1)\n",
        "    conv_first1 = Conv2D(32, (4, 1), padding='same')(conv_first1)\n",
        "    conv_first1 = keras.layers.LeakyReLU(alpha=0.01)(conv_first1)\n",
        "    conv_first1 = Conv2D(32, (4, 1), padding='same')(conv_first1)\n",
        "    conv_first1 = keras.layers.LeakyReLU(alpha=0.01)(conv_first1)\n",
        "\n",
        "    conv_first1 = Conv2D(32, (1, 2), strides=(1, 2))(conv_first1)\n",
        "    conv_first1 = keras.layers.LeakyReLU(alpha=0.01)(conv_first1)\n",
        "    conv_first1 = Conv2D(32, (4, 1), padding='same')(conv_first1)\n",
        "    conv_first1 = keras.layers.LeakyReLU(alpha=0.01)(conv_first1)\n",
        "    conv_first1 = Conv2D(32, (4, 1), padding='same')(conv_first1)\n",
        "    conv_first1 = keras.layers.LeakyReLU(alpha=0.01)(conv_first1)\n",
        "\n",
        "    conv_first1 = Conv2D(32, (1, 10))(conv_first1)\n",
        "    conv_first1 = keras.layers.LeakyReLU(alpha=0.01)(conv_first1)\n",
        "    conv_first1 = Conv2D(32, (4, 1), padding='same')(conv_first1)\n",
        "    conv_first1 = keras.layers.LeakyReLU(alpha=0.01)(conv_first1)\n",
        "    conv_first1 = Conv2D(32, (4, 1), padding='same')(conv_first1)\n",
        "    conv_first1 = keras.layers.LeakyReLU(alpha=0.01)(conv_first1)\n",
        "\n",
        "    # build the inception module\n",
        "    convsecond_1 = Conv2D(64, (1, 1), padding='same')(conv_first1)\n",
        "    convsecond_1 = keras.layers.LeakyReLU(alpha=0.01)(convsecond_1)\n",
        "    convsecond_1 = Conv2D(64, (3, 1), padding='same')(convsecond_1)\n",
        "    convsecond_1 = keras.layers.LeakyReLU(alpha=0.01)(convsecond_1)\n",
        "\n",
        "    convsecond_2 = Conv2D(64, (1, 1), padding='same')(conv_first1)\n",
        "    convsecond_2 = keras.layers.LeakyReLU(alpha=0.01)(convsecond_2)\n",
        "    convsecond_2 = Conv2D(64, (5, 1), padding='same')(convsecond_2)\n",
        "    convsecond_2 = keras.layers.LeakyReLU(alpha=0.01)(convsecond_2)\n",
        "\n",
        "    convsecond_3 = MaxPooling2D((3, 1), strides=(1, 1), padding='same')(conv_first1)\n",
        "    convsecond_3 = Conv2D(64, (1, 1), padding='same')(convsecond_3)\n",
        "    convsecond_3 = keras.layers.LeakyReLU(alpha=0.01)(convsecond_3)\n",
        "\n",
        "    convsecond_output = keras.layers.concatenate([convsecond_1, convsecond_2, convsecond_3], axis=3)\n",
        "    conv_reshape = Reshape((int(convsecond_output.shape[1]), int(convsecond_output.shape[3])))(convsecond_output)\n",
        "    conv_reshape = keras.layers.Dropout(0.2, noise_shape=(None, 1, int(conv_reshape.shape[2])))(conv_reshape, training=True)\n",
        "\n",
        "    # Build the encoder (Bidirectional LSTM)\n",
        "    encoder_output = Bidirectional(LSTM(number_of_lstm, return_sequences=True))(conv_reshape)\n",
        "\n",
        "    # Attention layer\n",
        "    attention_output = AttentionLayer()(encoder_output)\n",
        "\n",
        "    # Repeat vector to match the time steps for the decoder\n",
        "    repeated_vector = RepeatVector(T)(attention_output)\n",
        "\n",
        "    # Decoder (LSTM)\n",
        "    decoder_output = LSTM(number_of_lstm, return_sequences=True)(repeated_vector)\n",
        "\n",
        "    # TimeDistributed layer to apply Dense to every time step of the sequence\n",
        "    output = TimeDistributed(Dense(3, activation='softmax'))(decoder_output)\n",
        "\n",
        "    # Flatten the output before the final Dense layer\n",
        "    flatten_output = Flatten()(output)  # output is the output of the TimeDistributed(Dense(3, activation='softmax'))\n",
        "\n",
        "    # Final Dense layer for output\n",
        "    final_output = Dense(3, activation='softmax')(flatten_output)\n",
        "\n",
        "    model = Model(inputs=input_lmd, outputs=final_output)\n",
        "    adam = keras.optimizers.Adam(learning_rate=0.0001)  # Update the optimizer\n",
        "    model.compile(optimizer=adam, loss='categorical_crossentropy', metrics=['accuracy'])\n",
        "\n",
        "    return model\n",
        "\n",
        "deeplob_encoder_decoder = create_deeplob_encoder_decoder(trainX_CNN.shape[1], trainX_CNN.shape[2], n_hiddens)\n",
        "deeplob_encoder_decoder.summary()"
      ],
      "metadata": {
        "colab": {
          "base_uri": "https://localhost:8080/"
        },
        "id": "mV1o2TQOE18o",
        "outputId": "5a7c6cf4-ff06-44bf-cbfb-30d0b56d62b0"
      },
      "execution_count": null,
      "outputs": [
        {
          "output_type": "stream",
          "name": "stdout",
          "text": [
            "Model: \"model_1\"\n",
            "__________________________________________________________________________________________________\n",
            " Layer (type)                Output Shape                 Param #   Connected to                  \n",
            "==================================================================================================\n",
            " input_2 (InputLayer)        [(None, 10, 40, 1)]          0         []                            \n",
            "                                                                                                  \n",
            " conv2d_14 (Conv2D)          (None, 10, 20, 32)           96        ['input_2[0][0]']             \n",
            "                                                                                                  \n",
            " leaky_re_lu_14 (LeakyReLU)  (None, 10, 20, 32)           0         ['conv2d_14[0][0]']           \n",
            "                                                                                                  \n",
            " conv2d_15 (Conv2D)          (None, 10, 20, 32)           4128      ['leaky_re_lu_14[0][0]']      \n",
            "                                                                                                  \n",
            " leaky_re_lu_15 (LeakyReLU)  (None, 10, 20, 32)           0         ['conv2d_15[0][0]']           \n",
            "                                                                                                  \n",
            " conv2d_16 (Conv2D)          (None, 10, 20, 32)           4128      ['leaky_re_lu_15[0][0]']      \n",
            "                                                                                                  \n",
            " leaky_re_lu_16 (LeakyReLU)  (None, 10, 20, 32)           0         ['conv2d_16[0][0]']           \n",
            "                                                                                                  \n",
            " conv2d_17 (Conv2D)          (None, 10, 10, 32)           2080      ['leaky_re_lu_16[0][0]']      \n",
            "                                                                                                  \n",
            " leaky_re_lu_17 (LeakyReLU)  (None, 10, 10, 32)           0         ['conv2d_17[0][0]']           \n",
            "                                                                                                  \n",
            " conv2d_18 (Conv2D)          (None, 10, 10, 32)           4128      ['leaky_re_lu_17[0][0]']      \n",
            "                                                                                                  \n",
            " leaky_re_lu_18 (LeakyReLU)  (None, 10, 10, 32)           0         ['conv2d_18[0][0]']           \n",
            "                                                                                                  \n",
            " conv2d_19 (Conv2D)          (None, 10, 10, 32)           4128      ['leaky_re_lu_18[0][0]']      \n",
            "                                                                                                  \n",
            " leaky_re_lu_19 (LeakyReLU)  (None, 10, 10, 32)           0         ['conv2d_19[0][0]']           \n",
            "                                                                                                  \n",
            " conv2d_20 (Conv2D)          (None, 10, 1, 32)            10272     ['leaky_re_lu_19[0][0]']      \n",
            "                                                                                                  \n",
            " leaky_re_lu_20 (LeakyReLU)  (None, 10, 1, 32)            0         ['conv2d_20[0][0]']           \n",
            "                                                                                                  \n",
            " conv2d_21 (Conv2D)          (None, 10, 1, 32)            4128      ['leaky_re_lu_20[0][0]']      \n",
            "                                                                                                  \n",
            " leaky_re_lu_21 (LeakyReLU)  (None, 10, 1, 32)            0         ['conv2d_21[0][0]']           \n",
            "                                                                                                  \n",
            " conv2d_22 (Conv2D)          (None, 10, 1, 32)            4128      ['leaky_re_lu_21[0][0]']      \n",
            "                                                                                                  \n",
            " leaky_re_lu_22 (LeakyReLU)  (None, 10, 1, 32)            0         ['conv2d_22[0][0]']           \n",
            "                                                                                                  \n",
            " conv2d_23 (Conv2D)          (None, 10, 1, 64)            2112      ['leaky_re_lu_22[0][0]']      \n",
            "                                                                                                  \n",
            " conv2d_25 (Conv2D)          (None, 10, 1, 64)            2112      ['leaky_re_lu_22[0][0]']      \n",
            "                                                                                                  \n",
            " leaky_re_lu_23 (LeakyReLU)  (None, 10, 1, 64)            0         ['conv2d_23[0][0]']           \n",
            "                                                                                                  \n",
            " leaky_re_lu_25 (LeakyReLU)  (None, 10, 1, 64)            0         ['conv2d_25[0][0]']           \n",
            "                                                                                                  \n",
            " max_pooling2d_1 (MaxPoolin  (None, 10, 1, 32)            0         ['leaky_re_lu_22[0][0]']      \n",
            " g2D)                                                                                             \n",
            "                                                                                                  \n",
            " conv2d_24 (Conv2D)          (None, 10, 1, 64)            12352     ['leaky_re_lu_23[0][0]']      \n",
            "                                                                                                  \n",
            " conv2d_26 (Conv2D)          (None, 10, 1, 64)            20544     ['leaky_re_lu_25[0][0]']      \n",
            "                                                                                                  \n",
            " conv2d_27 (Conv2D)          (None, 10, 1, 64)            2112      ['max_pooling2d_1[0][0]']     \n",
            "                                                                                                  \n",
            " leaky_re_lu_24 (LeakyReLU)  (None, 10, 1, 64)            0         ['conv2d_24[0][0]']           \n",
            "                                                                                                  \n",
            " leaky_re_lu_26 (LeakyReLU)  (None, 10, 1, 64)            0         ['conv2d_26[0][0]']           \n",
            "                                                                                                  \n",
            " leaky_re_lu_27 (LeakyReLU)  (None, 10, 1, 64)            0         ['conv2d_27[0][0]']           \n",
            "                                                                                                  \n",
            " concatenate_1 (Concatenate  (None, 10, 1, 192)           0         ['leaky_re_lu_24[0][0]',      \n",
            " )                                                                   'leaky_re_lu_26[0][0]',      \n",
            "                                                                     'leaky_re_lu_27[0][0]']      \n",
            "                                                                                                  \n",
            " reshape_1 (Reshape)         (None, 10, 192)              0         ['concatenate_1[0][0]']       \n",
            "                                                                                                  \n",
            " dropout_1 (Dropout)         (None, 10, 192)              0         ['reshape_1[0][0]']           \n",
            "                                                                                                  \n",
            " bidirectional_1 (Bidirecti  (None, 10, 128)              131584    ['dropout_1[0][0]']           \n",
            " onal)                                                                                            \n",
            "                                                                                                  \n",
            " attention_layer_1 (Attenti  (None, 128)                  16384     ['bidirectional_1[0][0]']     \n",
            " onLayer)                                                                                         \n",
            "                                                                                                  \n",
            " repeat_vector_1 (RepeatVec  (None, 10, 128)              0         ['attention_layer_1[0][0]']   \n",
            " tor)                                                                                             \n",
            "                                                                                                  \n",
            " lstm_3 (LSTM)               (None, 10, 64)               49408     ['repeat_vector_1[0][0]']     \n",
            "                                                                                                  \n",
            " time_distributed_1 (TimeDi  (None, 10, 3)                195       ['lstm_3[0][0]']              \n",
            " stributed)                                                                                       \n",
            "                                                                                                  \n",
            " flatten (Flatten)           (None, 30)                   0         ['time_distributed_1[0][0]']  \n",
            "                                                                                                  \n",
            " dense_2 (Dense)             (None, 3)                    93        ['flatten[0][0]']             \n",
            "                                                                                                  \n",
            "==================================================================================================\n",
            "Total params: 274112 (1.05 MB)\n",
            "Trainable params: 274112 (1.05 MB)\n",
            "Non-trainable params: 0 (0.00 Byte)\n",
            "__________________________________________________________________________________________________\n"
          ]
        }
      ]
    },
    {
      "cell_type": "code",
      "source": [
        "%%time\n",
        "\n",
        "model_checkpoint_callback = tf.keras.callbacks.ModelCheckpoint(\n",
        "    filepath=checkpoint_filepath,\n",
        "    save_weights_only=True,\n",
        "    monitor='val_loss',\n",
        "    mode='auto',\n",
        "    save_best_only=True)\n",
        "\n",
        "deeplob_encoder_decoder.fit(trainX_CNN, trainY_CNN, validation_data=(valX_CNN, valY_CNN),\n",
        "            epochs=20, batch_size=128, verbose=2, callbacks=[model_checkpoint_callback])"
      ],
      "metadata": {
        "colab": {
          "base_uri": "https://localhost:8080/"
        },
        "id": "9fbF-YRWBgG7",
        "outputId": "c2ee14db-8207-4603-f9fc-581b6fbc9d7c"
      },
      "execution_count": null,
      "outputs": [
        {
          "output_type": "stream",
          "name": "stdout",
          "text": [
            "Epoch 1/20\n",
            "1593/1593 - 46s - loss: 1.0376 - accuracy: 0.4304 - val_loss: 1.0992 - val_accuracy: 0.3726 - 46s/epoch - 29ms/step\n",
            "Epoch 2/20\n",
            "1593/1593 - 22s - loss: 1.0157 - accuracy: 0.4740 - val_loss: 1.0991 - val_accuracy: 0.3726 - 22s/epoch - 14ms/step\n",
            "Epoch 3/20\n",
            "1593/1593 - 28s - loss: 1.0022 - accuracy: 0.4900 - val_loss: 1.0946 - val_accuracy: 0.3726 - 28s/epoch - 18ms/step\n",
            "Epoch 4/20\n",
            "1593/1593 - 22s - loss: 0.9657 - accuracy: 0.5266 - val_loss: 1.0988 - val_accuracy: 0.3726 - 22s/epoch - 14ms/step\n",
            "Epoch 5/20\n",
            "1593/1593 - 24s - loss: 0.9226 - accuracy: 0.5595 - val_loss: 1.1010 - val_accuracy: 0.3726 - 24s/epoch - 15ms/step\n",
            "Epoch 6/20\n",
            "1593/1593 - 23s - loss: 0.8730 - accuracy: 0.5759 - val_loss: 1.1136 - val_accuracy: 0.3726 - 23s/epoch - 14ms/step\n",
            "Epoch 7/20\n",
            "1593/1593 - 24s - loss: 0.8274 - accuracy: 0.5942 - val_loss: 1.1134 - val_accuracy: 0.3576 - 24s/epoch - 15ms/step\n",
            "Epoch 8/20\n",
            "1593/1593 - 22s - loss: 0.7818 - accuracy: 0.6570 - val_loss: 1.0949 - val_accuracy: 0.3726 - 22s/epoch - 14ms/step\n",
            "Epoch 9/20\n",
            "1593/1593 - 24s - loss: 0.7089 - accuracy: 0.6909 - val_loss: 0.8780 - val_accuracy: 0.6041 - 24s/epoch - 15ms/step\n",
            "Epoch 10/20\n",
            "1593/1593 - 23s - loss: 0.6436 - accuracy: 0.7388 - val_loss: 0.8244 - val_accuracy: 0.6382 - 23s/epoch - 15ms/step\n",
            "Epoch 11/20\n",
            "1593/1593 - 24s - loss: 0.6120 - accuracy: 0.7512 - val_loss: 0.8024 - val_accuracy: 0.6495 - 24s/epoch - 15ms/step\n",
            "Epoch 12/20\n",
            "1593/1593 - 22s - loss: 0.5904 - accuracy: 0.7622 - val_loss: 0.7824 - val_accuracy: 0.6573 - 22s/epoch - 14ms/step\n",
            "Epoch 13/20\n",
            "1593/1593 - 24s - loss: 0.5742 - accuracy: 0.7695 - val_loss: 0.7660 - val_accuracy: 0.6660 - 24s/epoch - 15ms/step\n",
            "Epoch 14/20\n",
            "1593/1593 - 23s - loss: 0.5606 - accuracy: 0.7763 - val_loss: 0.7674 - val_accuracy: 0.6692 - 23s/epoch - 14ms/step\n",
            "Epoch 15/20\n",
            "1593/1593 - 24s - loss: 0.5482 - accuracy: 0.7831 - val_loss: 0.7739 - val_accuracy: 0.6661 - 24s/epoch - 15ms/step\n",
            "Epoch 16/20\n",
            "1593/1593 - 22s - loss: 0.5386 - accuracy: 0.7873 - val_loss: 0.7525 - val_accuracy: 0.6765 - 22s/epoch - 14ms/step\n",
            "Epoch 17/20\n",
            "1593/1593 - 24s - loss: 0.5297 - accuracy: 0.7916 - val_loss: 0.7487 - val_accuracy: 0.6804 - 24s/epoch - 15ms/step\n",
            "Epoch 18/20\n",
            "1593/1593 - 22s - loss: 0.5212 - accuracy: 0.7958 - val_loss: 0.7347 - val_accuracy: 0.6868 - 22s/epoch - 14ms/step\n",
            "Epoch 19/20\n",
            "1593/1593 - 23s - loss: 0.5130 - accuracy: 0.8004 - val_loss: 0.7504 - val_accuracy: 0.6808 - 23s/epoch - 15ms/step\n",
            "Epoch 20/20\n",
            "1593/1593 - 25s - loss: 0.5069 - accuracy: 0.8029 - val_loss: 0.7437 - val_accuracy: 0.6876 - 25s/epoch - 16ms/step\n",
            "CPU times: user 8min 49s, sys: 25.8 s, total: 9min 15s\n",
            "Wall time: 8min 29s\n"
          ]
        },
        {
          "output_type": "execute_result",
          "data": {
            "text/plain": [
              "<keras.src.callbacks.History at 0x7fd8241adab0>"
            ]
          },
          "metadata": {},
          "execution_count": 14
        }
      ]
    },
    {
      "cell_type": "code",
      "source": [
        "deeplob_encoder_decoder.load_weights(checkpoint_filepath)\n",
        "pred = deeplob_encoder_decoder.predict(testX_CNN)"
      ],
      "metadata": {
        "colab": {
          "base_uri": "https://localhost:8080/"
        },
        "id": "w-26dzYHLek4",
        "outputId": "0e148183-d701-4cdc-f40f-9dbad91988c6"
      },
      "execution_count": null,
      "outputs": [
        {
          "output_type": "stream",
          "name": "stdout",
          "text": [
            "4995/4995 [==============================] - 31s 6ms/step\n"
          ]
        }
      ]
    },
    {
      "cell_type": "code",
      "source": [
        "print('accuracy_score:', accuracy_score(np.argmax(testY_CNN, axis=1), np.argmax(pred, axis=1)))\n",
        "print(classification_report(np.argmax(testY_CNN, axis=1), np.argmax(pred, axis=1), digits=4))"
      ],
      "metadata": {
        "colab": {
          "base_uri": "https://localhost:8080/"
        },
        "id": "XX2UQWkJLizk",
        "outputId": "b8fa0be3-4149-4d72-8427-b28b8c03a59a"
      },
      "execution_count": null,
      "outputs": [
        {
          "output_type": "stream",
          "name": "stdout",
          "text": [
            "accuracy_score: 0.7581611007865443\n",
            "              precision    recall  f1-score   support\n",
            "\n",
            "           0     0.7296    0.7709    0.7497     53063\n",
            "           1     0.8549    0.7271    0.7858     57151\n",
            "           2     0.7020    0.7804    0.7391     49599\n",
            "\n",
            "    accuracy                         0.7582    159813\n",
            "   macro avg     0.7621    0.7594    0.7582    159813\n",
            "weighted avg     0.7658    0.7582    0.7593    159813\n",
            "\n"
          ]
        }
      ]
    },
    {
      "cell_type": "code",
      "source": [
        "from sklearn.metrics import accuracy_score, classification_report, confusion_matrix, ConfusionMatrixDisplay\n",
        "c = confusion_matrix(np.argmax(testY_CNN, axis=1), np.argmax(pred, axis=1), normalize=\"true\")\n",
        "disp = ConfusionMatrixDisplay(c)\n",
        "disp.plot()\n",
        "plt.show()"
      ],
      "metadata": {
        "colab": {
          "base_uri": "https://localhost:8080/",
          "height": 449
        },
        "id": "qkha5y5ILSi6",
        "outputId": "09f32ecd-b2ed-49fb-d469-1fed99278779"
      },
      "execution_count": null,
      "outputs": [
        {
          "output_type": "display_data",
          "data": {
            "text/plain": [
              "<Figure size 640x480 with 2 Axes>"
            ],
            "image/png": "[encoded data removed]"
          },
          "metadata": {}
        }
      ]
    }
  ]
}