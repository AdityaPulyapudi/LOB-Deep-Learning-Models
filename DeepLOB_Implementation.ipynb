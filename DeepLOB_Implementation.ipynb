{
  "nbformat": 4,
  "nbformat_minor": 0,
  "metadata": {
    "colab": {
      "provenance": [],
      "gpuType": "T4"
    },
    "kernelspec": {
      "name": "python3",
      "display_name": "Python 3"
    },
    "language_info": {
      "name": "python"
    },
    "accelerator": "GPU"
  },
  "cells": [
    {
      "cell_type": "code",
      "execution_count": null,
      "metadata": {
        "id": "HE8wSgKA-zUK",
        "colab": {
          "base_uri": "https://localhost:8080/"
        },
        "outputId": "c6efa0bd-cb8b-4395-b760-b2de2b406b37"
      },
      "outputs": [
        {
          "output_type": "stream",
          "name": "stdout",
          "text": [
            "Drive already mounted at /content/drive; to attempt to forcibly remount, call drive.mount(\"/content/drive\", force_remount=True).\n"
          ]
        }
      ],
      "source": [
        "from google.colab import drive\n",
        "drive.mount('/content/drive')"
      ]
    },
    {
      "cell_type": "code",
      "source": [
        "import torch\n",
        "device = torch.device(\"cuda:0\" if torch.cuda.is_available() else \"cpu\")\n",
        "print(device)"
      ],
      "metadata": {
        "colab": {
          "base_uri": "https://localhost:8080/"
        },
        "id": "eD5q_zh7Axpd",
        "outputId": "bab1b74f-6ecf-44d9-aaaf-793fc00d8b2f"
      },
      "execution_count": null,
      "outputs": [
        {
          "output_type": "stream",
          "name": "stdout",
          "text": [
            "cuda:0\n"
          ]
        }
      ]
    },
    {
      "cell_type": "code",
      "source": [
        "import numpy as np\n",
        "\n",
        "dec_data = np.loadtxt('/content/drive/MyDrive/Copy of Train_Dst_NoAuction_DecPre_CF_7.txt')\n",
        "dec_train = dec_data[:, :int(np.floor(dec_data.shape[1] * 0.8))]\n",
        "dec_val = dec_data[:, int(np.floor(dec_data.shape[1] * 0.8)):]\n",
        "\n",
        "dec_test1 = np.loadtxt('/content/drive/MyDrive/Copy of Test_Dst_NoAuction_DecPre_CF_7.txt')\n",
        "dec_test2 = np.loadtxt('/content/drive/MyDrive/Copy of Test_Dst_NoAuction_DecPre_CF_8.txt')\n",
        "dec_test3 = np.loadtxt('/content/drive/MyDrive/Copy of Test_Dst_NoAuction_DecPre_CF_8.txt')\n",
        "dec_test = np.hstack((dec_test1, dec_test2, dec_test3))\n",
        "\n",
        "print(dec_data.shape)\n",
        "print(dec_train.shape)\n",
        "print(dec_val.shape)\n",
        "print(dec_test.shape)"
      ],
      "metadata": {
        "colab": {
          "base_uri": "https://localhost:8080/"
        },
        "id": "M9qS_jUeA0l4",
        "outputId": "8010c5db-97f3-4cd6-d1f2-96d38d53d3a3"
      },
      "execution_count": null,
      "outputs": [
        {
          "output_type": "stream",
          "name": "stdout",
          "text": [
            "(149, 254750)\n",
            "(149, 203800)\n",
            "(149, 50950)\n",
            "(149, 159822)\n"
          ]
        }
      ]
    },
    {
      "cell_type": "code",
      "source": [
        "# load packages\n",
        "import pandas as pd\n",
        "import pickle\n",
        "import numpy as np\n",
        "import keras\n",
        "import tensorflow as tf\n",
        "from keras import backend as K\n",
        "from keras.models import load_model, Model\n",
        "from keras.layers import Flatten, Dense, Dropout, Activation, Input, LSTM, Reshape, Conv2D, MaxPooling2D\n",
        "from keras.optimizers import Adam\n",
        "from keras.layers import LeakyReLU\n",
        "# from keras.layers.advanced_activations import LeakyReLU\n",
        "from keras.utils import to_categorical\n",
        "# from keras.utils import np_utils\n",
        "\n",
        "from sklearn.metrics import classification_report, accuracy_score\n",
        "import matplotlib.pyplot as plt\n",
        "\n",
        "# set random seeds\n",
        "np.random.seed(1)\n",
        "tf.random.set_seed(2)"
      ],
      "metadata": {
        "id": "QoQe5U4yBOTP"
      },
      "execution_count": null,
      "outputs": []
    },
    {
      "cell_type": "code",
      "source": [
        "def prepare_x(data):\n",
        "    df1 = data[:40, :].T\n",
        "    return np.array(df1)\n",
        "\n",
        "def get_label(data):\n",
        "    lob = data[-5:, :].T\n",
        "    return lob\n",
        "\n",
        "def data_classification(X, Y, T):\n",
        "    [N, D] = X.shape\n",
        "    df = np.array(X)\n",
        "    dY = np.array(Y)\n",
        "    dataY = dY[T - 1:N]\n",
        "    dataX = np.zeros((N - T + 1, T, D))\n",
        "    for i in range(T, N + 1):\n",
        "        dataX[i - T] = df[i - T:i, :]\n",
        "    return dataX.reshape(dataX.shape + (1,)), dataY\n",
        "\n",
        "def prepare_x_y(data, k, T):\n",
        "    x = prepare_x(data)\n",
        "    y = get_label(data)\n",
        "    x, y = data_classification(x, y, T=T)\n",
        "    y = y[:,k] - 1\n",
        "    y = to_categorical(y, 3)\n",
        "    return x, y"
      ],
      "metadata": {
        "id": "5a1ZNnSjBQ7q"
      },
      "execution_count": null,
      "outputs": []
    },
    {
      "cell_type": "code",
      "source": [
        "k = 4 # which prediction horizon\n",
        "T = 10 # the length of a single input i. e lookback_timestep THIS HYPERPARAMETER IS FINE TUNED FOR MODEL CONVERGENCE\n",
        "n_hiddens = 64\n",
        "checkpoint_filepath = '/content/drive/MyDrive/path_to_your_model_checkpoints/'\n",
        "# checkpoint_filepath = './model_tensorflow2/weights'"
      ],
      "metadata": {
        "id": "gE7CLstKBSpr"
      },
      "execution_count": null,
      "outputs": []
    },
    {
      "cell_type": "code",
      "source": [
        "# Training Dataset Shrinking\n",
        "# dec_train = dec_train[:,:50000]\n",
        "print(dec_train.shape)\n",
        "trainX_CNN, trainY_CNN = prepare_x_y(dec_train, k, T)\n",
        "print(trainX_CNN.shape, trainY_CNN.shape)"
      ],
      "metadata": {
        "colab": {
          "base_uri": "https://localhost:8080/"
        },
        "id": "NubSWmNjBWD4",
        "outputId": "1aea3d78-1929-489d-dfc0-70d46c134700"
      },
      "execution_count": null,
      "outputs": [
        {
          "output_type": "stream",
          "name": "stdout",
          "text": [
            "(149, 203800)\n",
            "(203791, 10, 40, 1) (203791, 3)\n"
          ]
        }
      ]
    },
    {
      "cell_type": "code",
      "source": [
        "# Testing Dataset Shrinking\n",
        "# dec_test = dec_test[:,:20000]\n",
        "print(dec_test.shape)\n",
        "testX_CNN, testY_CNN = prepare_x_y(dec_test, k, T)\n",
        "print(testX_CNN.shape, testY_CNN.shape)"
      ],
      "metadata": {
        "colab": {
          "base_uri": "https://localhost:8080/"
        },
        "id": "bI2kVMq3BYOe",
        "outputId": "b7459c8d-ebe9-4c3a-c53e-2fb21238347b"
      },
      "execution_count": null,
      "outputs": [
        {
          "output_type": "stream",
          "name": "stdout",
          "text": [
            "(149, 159822)\n",
            "(159813, 10, 40, 1) (159813, 3)\n"
          ]
        }
      ]
    },
    {
      "cell_type": "code",
      "source": [
        "\n",
        "# Validation Dataset Shrinking\n",
        "# dec_val = dec_val[:,:10000]\n",
        "print(dec_val.shape)\n",
        "valX_CNN, valY_CNN = prepare_x_y(dec_val, k, T)\n",
        "print(valX_CNN.shape, valY_CNN.shape)"
      ],
      "metadata": {
        "colab": {
          "base_uri": "https://localhost:8080/"
        },
        "id": "d8WN89lWBZ1p",
        "outputId": "c9369df5-736f-4a6a-bba9-5c5a11f9b8b3"
      },
      "execution_count": null,
      "outputs": [
        {
          "output_type": "stream",
          "name": "stdout",
          "text": [
            "(149, 50950)\n",
            "(50941, 10, 40, 1) (50941, 3)\n"
          ]
        }
      ]
    },
    {
      "cell_type": "code",
      "source": [
        "print(trainX_CNN.shape, trainY_CNN.shape)\n",
        "print(valX_CNN.shape, valY_CNN.shape)\n",
        "print(testX_CNN.shape, testY_CNN.shape)"
      ],
      "metadata": {
        "colab": {
          "base_uri": "https://localhost:8080/"
        },
        "id": "_vUIbc0zBbvk",
        "outputId": "e2efd3f8-55a1-47de-c5a8-c5e75b10fec9"
      },
      "execution_count": null,
      "outputs": [
        {
          "output_type": "stream",
          "name": "stdout",
          "text": [
            "(203791, 10, 40, 1) (203791, 3)\n",
            "(50941, 10, 40, 1) (50941, 3)\n",
            "(159813, 10, 40, 1) (159813, 3)\n"
          ]
        }
      ]
    },
    {
      "cell_type": "code",
      "source": [
        "def create_deeplob(T, NF, number_of_lstm):\n",
        "    input_lmd = Input(shape=(T, NF, 1))\n",
        "\n",
        "    # build the convolutional block\n",
        "    conv_first1 = Conv2D(32, (1, 2), strides=(1, 2))(input_lmd)\n",
        "    conv_first1 = keras.layers.LeakyReLU(alpha=0.01)(conv_first1)\n",
        "    conv_first1 = Conv2D(32, (4, 1), padding='same')(conv_first1)\n",
        "    conv_first1 = keras.layers.LeakyReLU(alpha=0.01)(conv_first1)\n",
        "    conv_first1 = Conv2D(32, (4, 1), padding='same')(conv_first1)\n",
        "    conv_first1 = keras.layers.LeakyReLU(alpha=0.01)(conv_first1)\n",
        "\n",
        "    conv_first1 = Conv2D(32, (1, 2), strides=(1, 2))(conv_first1)\n",
        "    conv_first1 = keras.layers.LeakyReLU(alpha=0.01)(conv_first1)\n",
        "    conv_first1 = Conv2D(32, (4, 1), padding='same')(conv_first1)\n",
        "    conv_first1 = keras.layers.LeakyReLU(alpha=0.01)(conv_first1)\n",
        "    conv_first1 = Conv2D(32, (4, 1), padding='same')(conv_first1)\n",
        "    conv_first1 = keras.layers.LeakyReLU(alpha=0.01)(conv_first1)\n",
        "\n",
        "    conv_first1 = Conv2D(32, (1, 10))(conv_first1)\n",
        "    conv_first1 = keras.layers.LeakyReLU(alpha=0.01)(conv_first1)\n",
        "    conv_first1 = Conv2D(32, (4, 1), padding='same')(conv_first1)\n",
        "    conv_first1 = keras.layers.LeakyReLU(alpha=0.01)(conv_first1)\n",
        "    conv_first1 = Conv2D(32, (4, 1), padding='same')(conv_first1)\n",
        "    conv_first1 = keras.layers.LeakyReLU(alpha=0.01)(conv_first1)\n",
        "\n",
        "    # build the inception module\n",
        "    convsecond_1 = Conv2D(64, (1, 1), padding='same')(conv_first1)\n",
        "    convsecond_1 = keras.layers.LeakyReLU(alpha=0.01)(convsecond_1)\n",
        "    convsecond_1 = Conv2D(64, (3, 1), padding='same')(convsecond_1)\n",
        "    convsecond_1 = keras.layers.LeakyReLU(alpha=0.01)(convsecond_1)\n",
        "\n",
        "    convsecond_2 = Conv2D(64, (1, 1), padding='same')(conv_first1)\n",
        "    convsecond_2 = keras.layers.LeakyReLU(alpha=0.01)(convsecond_2)\n",
        "    convsecond_2 = Conv2D(64, (5, 1), padding='same')(convsecond_2)\n",
        "    convsecond_2 = keras.layers.LeakyReLU(alpha=0.01)(convsecond_2)\n",
        "\n",
        "    convsecond_3 = MaxPooling2D((3, 1), strides=(1, 1), padding='same')(conv_first1)\n",
        "    convsecond_3 = Conv2D(64, (1, 1), padding='same')(convsecond_3)\n",
        "    convsecond_3 = keras.layers.LeakyReLU(alpha=0.01)(convsecond_3)\n",
        "\n",
        "    convsecond_output = keras.layers.concatenate([convsecond_1, convsecond_2, convsecond_3], axis=3)\n",
        "    conv_reshape = Reshape((int(convsecond_output.shape[1]), int(convsecond_output.shape[3])))(convsecond_output)\n",
        "    conv_reshape = keras.layers.Dropout(0.2, noise_shape=(None, 1, int(conv_reshape.shape[2])))(conv_reshape, training=True)\n",
        "\n",
        "    # build the last LSTM layer\n",
        "    conv_lstm = LSTM(number_of_lstm)(conv_reshape)\n",
        "\n",
        "    # build the output layer\n",
        "    out = Dense(3, activation='softmax')(conv_lstm)\n",
        "\n",
        "    model = Model(inputs=input_lmd, outputs=out)\n",
        "    adam = keras.optimizers.Adam(lr=0.0001)\n",
        "    model.compile(optimizer=adam, loss='categorical_crossentropy', metrics=['accuracy'])\n",
        "\n",
        "    return model\n",
        "\n",
        "deeplob = create_deeplob(trainX_CNN.shape[1], trainX_CNN.shape[2], n_hiddens)\n",
        "deeplob.summary()"
      ],
      "metadata": {
        "colab": {
          "base_uri": "https://localhost:8080/"
        },
        "id": "k3dH8BwbBdlu",
        "outputId": "d27864c4-67df-4329-f1d5-6a62551efb24"
      },
      "execution_count": null,
      "outputs": [
        {
          "output_type": "stream",
          "name": "stderr",
          "text": [
            "WARNING:absl:`lr` is deprecated in Keras optimizer, please use `learning_rate` or use the legacy optimizer, e.g.,tf.keras.optimizers.legacy.Adam.\n"
          ]
        },
        {
          "output_type": "stream",
          "name": "stdout",
          "text": [
            "Model: \"model\"\n",
            "__________________________________________________________________________________________________\n",
            " Layer (type)                Output Shape                 Param #   Connected to                  \n",
            "==================================================================================================\n",
            " input_5 (InputLayer)        [(None, 10, 40, 1)]          0         []                            \n",
            "                                                                                                  \n",
            " conv2d_56 (Conv2D)          (None, 10, 20, 32)           96        ['input_5[0][0]']             \n",
            "                                                                                                  \n",
            " leaky_re_lu_56 (LeakyReLU)  (None, 10, 20, 32)           0         ['conv2d_56[0][0]']           \n",
            "                                                                                                  \n",
            " conv2d_57 (Conv2D)          (None, 10, 20, 32)           4128      ['leaky_re_lu_56[0][0]']      \n",
            "                                                                                                  \n",
            " leaky_re_lu_57 (LeakyReLU)  (None, 10, 20, 32)           0         ['conv2d_57[0][0]']           \n",
            "                                                                                                  \n",
            " conv2d_58 (Conv2D)          (None, 10, 20, 32)           4128      ['leaky_re_lu_57[0][0]']      \n",
            "                                                                                                  \n",
            " leaky_re_lu_58 (LeakyReLU)  (None, 10, 20, 32)           0         ['conv2d_58[0][0]']           \n",
            "                                                                                                  \n",
            " conv2d_59 (Conv2D)          (None, 10, 10, 32)           2080      ['leaky_re_lu_58[0][0]']      \n",
            "                                                                                                  \n",
            " leaky_re_lu_59 (LeakyReLU)  (None, 10, 10, 32)           0         ['conv2d_59[0][0]']           \n",
            "                                                                                                  \n",
            " conv2d_60 (Conv2D)          (None, 10, 10, 32)           4128      ['leaky_re_lu_59[0][0]']      \n",
            "                                                                                                  \n",
            " leaky_re_lu_60 (LeakyReLU)  (None, 10, 10, 32)           0         ['conv2d_60[0][0]']           \n",
            "                                                                                                  \n",
            " conv2d_61 (Conv2D)          (None, 10, 10, 32)           4128      ['leaky_re_lu_60[0][0]']      \n",
            "                                                                                                  \n",
            " leaky_re_lu_61 (LeakyReLU)  (None, 10, 10, 32)           0         ['conv2d_61[0][0]']           \n",
            "                                                                                                  \n",
            " conv2d_62 (Conv2D)          (None, 10, 1, 32)            10272     ['leaky_re_lu_61[0][0]']      \n",
            "                                                                                                  \n",
            " leaky_re_lu_62 (LeakyReLU)  (None, 10, 1, 32)            0         ['conv2d_62[0][0]']           \n",
            "                                                                                                  \n",
            " conv2d_63 (Conv2D)          (None, 10, 1, 32)            4128      ['leaky_re_lu_62[0][0]']      \n",
            "                                                                                                  \n",
            " leaky_re_lu_63 (LeakyReLU)  (None, 10, 1, 32)            0         ['conv2d_63[0][0]']           \n",
            "                                                                                                  \n",
            " conv2d_64 (Conv2D)          (None, 10, 1, 32)            4128      ['leaky_re_lu_63[0][0]']      \n",
            "                                                                                                  \n",
            " leaky_re_lu_64 (LeakyReLU)  (None, 10, 1, 32)            0         ['conv2d_64[0][0]']           \n",
            "                                                                                                  \n",
            " conv2d_65 (Conv2D)          (None, 10, 1, 64)            2112      ['leaky_re_lu_64[0][0]']      \n",
            "                                                                                                  \n",
            " conv2d_67 (Conv2D)          (None, 10, 1, 64)            2112      ['leaky_re_lu_64[0][0]']      \n",
            "                                                                                                  \n",
            " leaky_re_lu_65 (LeakyReLU)  (None, 10, 1, 64)            0         ['conv2d_65[0][0]']           \n",
            "                                                                                                  \n",
            " leaky_re_lu_67 (LeakyReLU)  (None, 10, 1, 64)            0         ['conv2d_67[0][0]']           \n",
            "                                                                                                  \n",
            " max_pooling2d_4 (MaxPoolin  (None, 10, 1, 32)            0         ['leaky_re_lu_64[0][0]']      \n",
            " g2D)                                                                                             \n",
            "                                                                                                  \n",
            " conv2d_66 (Conv2D)          (None, 10, 1, 64)            12352     ['leaky_re_lu_65[0][0]']      \n",
            "                                                                                                  \n",
            " conv2d_68 (Conv2D)          (None, 10, 1, 64)            20544     ['leaky_re_lu_67[0][0]']      \n",
            "                                                                                                  \n",
            " conv2d_69 (Conv2D)          (None, 10, 1, 64)            2112      ['max_pooling2d_4[0][0]']     \n",
            "                                                                                                  \n",
            " leaky_re_lu_66 (LeakyReLU)  (None, 10, 1, 64)            0         ['conv2d_66[0][0]']           \n",
            "                                                                                                  \n",
            " leaky_re_lu_68 (LeakyReLU)  (None, 10, 1, 64)            0         ['conv2d_68[0][0]']           \n",
            "                                                                                                  \n",
            " leaky_re_lu_69 (LeakyReLU)  (None, 10, 1, 64)            0         ['conv2d_69[0][0]']           \n",
            "                                                                                                  \n",
            " concatenate_4 (Concatenate  (None, 10, 1, 192)           0         ['leaky_re_lu_66[0][0]',      \n",
            " )                                                                   'leaky_re_lu_68[0][0]',      \n",
            "                                                                     'leaky_re_lu_69[0][0]']      \n",
            "                                                                                                  \n",
            " reshape_4 (Reshape)         (None, 10, 192)              0         ['concatenate_4[0][0]']       \n",
            "                                                                                                  \n",
            " dropout_4 (Dropout)         (None, 10, 192)              0         ['reshape_4[0][0]']           \n",
            "                                                                                                  \n",
            " lstm_6 (LSTM)               (None, 64)                   65792     ['dropout_4[0][0]']           \n",
            "                                                                                                  \n",
            " dense_2 (Dense)             (None, 3)                    195       ['lstm_6[0][0]']              \n",
            "                                                                                                  \n",
            "==================================================================================================\n",
            "Total params: 142435 (556.39 KB)\n",
            "Trainable params: 142435 (556.39 KB)\n",
            "Non-trainable params: 0 (0.00 Byte)\n",
            "__________________________________________________________________________________________________\n"
          ]
        }
      ]
    },
    {
      "cell_type": "code",
      "source": [
        "%%time\n",
        "\n",
        "model_checkpoint_callback = tf.keras.callbacks.ModelCheckpoint(\n",
        "    filepath=checkpoint_filepath,\n",
        "    save_weights_only=True,\n",
        "    monitor='val_loss',\n",
        "    mode='auto',\n",
        "    save_best_only=True)\n",
        "\n",
        "deeplob.fit(trainX_CNN, trainY_CNN, validation_data=(valX_CNN, valY_CNN),\n",
        "            epochs=20, batch_size=128, verbose=2, callbacks=[model_checkpoint_callback])"
      ],
      "metadata": {
        "colab": {
          "base_uri": "https://localhost:8080/"
        },
        "id": "9fbF-YRWBgG7",
        "outputId": "57736ff3-9a15-4452-b3b2-16638be9ccca"
      },
      "execution_count": null,
      "outputs": [
        {
          "output_type": "stream",
          "name": "stdout",
          "text": [
            "Epoch 1/20\n",
            "1593/1593 - 42s - loss: 0.9619 - accuracy: 0.4811 - val_loss: 0.9276 - val_accuracy: 0.5373 - 42s/epoch - 26ms/step\n",
            "Epoch 2/20\n",
            "1593/1593 - 16s - loss: 0.6036 - accuracy: 0.7504 - val_loss: 0.7541 - val_accuracy: 0.6671 - 16s/epoch - 10ms/step\n",
            "Epoch 3/20\n",
            "1593/1593 - 18s - loss: 0.5241 - accuracy: 0.7924 - val_loss: 0.7351 - val_accuracy: 0.6845 - 18s/epoch - 11ms/step\n",
            "Epoch 4/20\n",
            "1593/1593 - 18s - loss: 0.4864 - accuracy: 0.8114 - val_loss: 0.7126 - val_accuracy: 0.7010 - 18s/epoch - 11ms/step\n",
            "Epoch 5/20\n",
            "1593/1593 - 17s - loss: 0.4571 - accuracy: 0.8256 - val_loss: 0.7124 - val_accuracy: 0.7025 - 17s/epoch - 11ms/step\n",
            "Epoch 6/20\n",
            "1593/1593 - 16s - loss: 0.4365 - accuracy: 0.8341 - val_loss: 0.7171 - val_accuracy: 0.6995 - 16s/epoch - 10ms/step\n",
            "Epoch 7/20\n",
            "1593/1593 - 17s - loss: 0.4200 - accuracy: 0.8416 - val_loss: 0.7228 - val_accuracy: 0.6937 - 17s/epoch - 11ms/step\n",
            "Epoch 8/20\n",
            "1593/1593 - 16s - loss: 0.4036 - accuracy: 0.8498 - val_loss: 0.7499 - val_accuracy: 0.6970 - 16s/epoch - 10ms/step\n",
            "Epoch 9/20\n",
            "1593/1593 - 17s - loss: 0.3898 - accuracy: 0.8561 - val_loss: 0.7318 - val_accuracy: 0.7011 - 17s/epoch - 11ms/step\n",
            "Epoch 10/20\n",
            "1593/1593 - 16s - loss: 0.3770 - accuracy: 0.8613 - val_loss: 0.7773 - val_accuracy: 0.7017 - 16s/epoch - 10ms/step\n",
            "Epoch 11/20\n",
            "1593/1593 - 16s - loss: 0.3665 - accuracy: 0.8658 - val_loss: 0.7564 - val_accuracy: 0.6919 - 16s/epoch - 10ms/step\n",
            "Epoch 12/20\n",
            "1593/1593 - 17s - loss: 0.3582 - accuracy: 0.8689 - val_loss: 0.7856 - val_accuracy: 0.6926 - 17s/epoch - 11ms/step\n",
            "Epoch 13/20\n",
            "1593/1593 - 17s - loss: 0.3491 - accuracy: 0.8722 - val_loss: 0.8068 - val_accuracy: 0.6807 - 17s/epoch - 11ms/step\n",
            "Epoch 14/20\n",
            "1593/1593 - 17s - loss: 0.3420 - accuracy: 0.8748 - val_loss: 0.8200 - val_accuracy: 0.6870 - 17s/epoch - 11ms/step\n",
            "Epoch 15/20\n",
            "1593/1593 - 16s - loss: 0.3362 - accuracy: 0.8780 - val_loss: 0.8140 - val_accuracy: 0.6966 - 16s/epoch - 10ms/step\n",
            "Epoch 16/20\n",
            "1593/1593 - 17s - loss: 0.3303 - accuracy: 0.8798 - val_loss: 0.8126 - val_accuracy: 0.6862 - 17s/epoch - 11ms/step\n",
            "Epoch 17/20\n",
            "1593/1593 - 17s - loss: 0.3243 - accuracy: 0.8822 - val_loss: 0.8317 - val_accuracy: 0.6923 - 17s/epoch - 11ms/step\n",
            "Epoch 18/20\n",
            "1593/1593 - 17s - loss: 0.3196 - accuracy: 0.8833 - val_loss: 0.8508 - val_accuracy: 0.6891 - 17s/epoch - 11ms/step\n",
            "Epoch 19/20\n",
            "1593/1593 - 17s - loss: 0.3141 - accuracy: 0.8859 - val_loss: 0.8469 - val_accuracy: 0.6857 - 17s/epoch - 10ms/step\n",
            "Epoch 20/20\n",
            "1593/1593 - 16s - loss: 0.3118 - accuracy: 0.8866 - val_loss: 0.8764 - val_accuracy: 0.6861 - 16s/epoch - 10ms/step\n",
            "CPU times: user 5min 58s, sys: 17.6 s, total: 6min 16s\n",
            "Wall time: 6min 31s\n"
          ]
        },
        {
          "output_type": "execute_result",
          "data": {
            "text/plain": [
              "<keras.src.callbacks.History at 0x7f88d06b5930>"
            ]
          },
          "metadata": {},
          "execution_count": 19
        }
      ]
    },
    {
      "cell_type": "code",
      "source": [
        "deeplob.load_weights(checkpoint_filepath)\n",
        "pred = deeplob.predict(testX_CNN)"
      ],
      "metadata": {
        "colab": {
          "base_uri": "https://localhost:8080/"
        },
        "id": "bOmfRAgeLqsQ",
        "outputId": "e36f6a20-0461-4416-f4ef-dc6cdc23e145"
      },
      "execution_count": null,
      "outputs": [
        {
          "output_type": "stream",
          "name": "stdout",
          "text": [
            "4995/4995 [==============================] - 19s 4ms/step\n"
          ]
        }
      ]
    },
    {
      "cell_type": "code",
      "source": [
        "print('accuracy_score:', accuracy_score(np.argmax(testY_CNN, axis=1), np.argmax(pred, axis=1)))\n",
        "print(classification_report(np.argmax(testY_CNN, axis=1), np.argmax(pred, axis=1), digits=4))"
      ],
      "metadata": {
        "colab": {
          "base_uri": "https://localhost:8080/"
        },
        "id": "cm2K8edqL7EE",
        "outputId": "020aae9e-6c79-454a-f168-dbc7045d582a"
      },
      "execution_count": null,
      "outputs": [
        {
          "output_type": "stream",
          "name": "stdout",
          "text": [
            "accuracy_score: 0.7941156226339534\n",
            "              precision    recall  f1-score   support\n",
            "\n",
            "           0     0.8068    0.7438    0.7740     53063\n",
            "           1     0.8433    0.8258    0.8345     57151\n",
            "           2     0.7327    0.8114    0.7701     49599\n",
            "\n",
            "    accuracy                         0.7941    159813\n",
            "   macro avg     0.7943    0.7937    0.7928    159813\n",
            "weighted avg     0.7969    0.7941    0.7944    159813\n",
            "\n"
          ]
        }
      ]
    },
    {
      "cell_type": "code",
      "source": [
        "from sklearn.metrics import accuracy_score, classification_report, confusion_matrix, ConfusionMatrixDisplay\n",
        "c = confusion_matrix(np.argmax(testY_CNN, axis=1), np.argmax(pred, axis=1), normalize=\"true\")\n",
        "disp = ConfusionMatrixDisplay(c)\n",
        "disp.plot()\n",
        "plt.show()"
      ],
      "metadata": {
        "colab": {
          "base_uri": "https://localhost:8080/",
          "height": 54
        },
        "id": "vdUaXAcjL-R1",
        "outputId": "209c5321-9bb3-4231-84dd-9c007b867087"
      },
      "execution_count": null,
      "outputs": [
        {
          "output_type": "display_data",
          "data": {
            "text/plain": [
              "<Figure size 640x480 with 2 Axes>"
            ],
            "image/png": "[encoded data removed]"
          },
          "metadata": {}
        }
      ]
    }
  ]
}