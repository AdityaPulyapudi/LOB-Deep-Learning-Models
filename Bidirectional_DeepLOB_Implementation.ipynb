{
  "nbformat": 4,
  "nbformat_minor": 0,
  "metadata": {
    "colab": {
      "provenance": [],
      "gpuType": "T4"
    },
    "kernelspec": {
      "name": "python3",
      "display_name": "Python 3"
    },
    "language_info": {
      "name": "python"
    },
    "accelerator": "GPU"
  },
  "cells": [
    {
      "cell_type": "code",
      "execution_count": null,
      "metadata": {
        "id": "HE8wSgKA-zUK",
        "colab": {
          "base_uri": "https://localhost:8080/"
        },
        "outputId": "59d33ca9-171a-47af-909b-ccaaa1456308"
      },
      "outputs": [
        {
          "output_type": "stream",
          "name": "stdout",
          "text": [
            "Mounted at /content/drive\n"
          ]
        }
      ],
      "source": [
        "from google.colab import drive\n",
        "drive.mount('/content/drive')"
      ]
    },
    {
      "cell_type": "code",
      "source": [
        "import torch\n",
        "device = torch.device(\"cuda:0\" if torch.cuda.is_available() else \"cpu\")\n",
        "print(device)"
      ],
      "metadata": {
        "colab": {
          "base_uri": "https://localhost:8080/"
        },
        "id": "eD5q_zh7Axpd",
        "outputId": "bc508e16-fcb4-422c-8945-023619b8ecff"
      },
      "execution_count": null,
      "outputs": [
        {
          "output_type": "stream",
          "name": "stdout",
          "text": [
            "cuda:0\n"
          ]
        }
      ]
    },
    {
      "cell_type": "code",
      "source": [
        "import numpy as np\n",
        "\n",
        "dec_data = np.loadtxt('/content/drive/MyDrive/Copy of Train_Dst_NoAuction_DecPre_CF_7.txt')\n",
        "dec_train = dec_data[:, :int(np.floor(dec_data.shape[1] * 0.8))]\n",
        "dec_val = dec_data[:, int(np.floor(dec_data.shape[1] * 0.8)):]\n",
        "\n",
        "dec_test1 = np.loadtxt('/content/drive/MyDrive/Copy of Test_Dst_NoAuction_DecPre_CF_7.txt')\n",
        "dec_test2 = np.loadtxt('/content/drive/MyDrive/Copy of Test_Dst_NoAuction_DecPre_CF_8.txt')\n",
        "dec_test3 = np.loadtxt('/content/drive/MyDrive/Copy of Test_Dst_NoAuction_DecPre_CF_8.txt')\n",
        "dec_test = np.hstack((dec_test1, dec_test2, dec_test3))\n",
        "\n",
        "print(dec_data.shape)\n",
        "print(dec_train.shape)\n",
        "print(dec_val.shape)\n",
        "print(dec_test.shape)"
      ],
      "metadata": {
        "colab": {
          "base_uri": "https://localhost:8080/"
        },
        "id": "M9qS_jUeA0l4",
        "outputId": "9aaedf56-5fe7-44b9-8d1e-c7edd14679ce"
      },
      "execution_count": null,
      "outputs": [
        {
          "output_type": "stream",
          "name": "stdout",
          "text": [
            "(149, 254750)\n",
            "(149, 203800)\n",
            "(149, 50950)\n",
            "(149, 159822)\n"
          ]
        }
      ]
    },
    {
      "cell_type": "code",
      "source": [
        "# load packages\n",
        "import pandas as pd\n",
        "import pickle\n",
        "import numpy as np\n",
        "import keras\n",
        "import tensorflow as tf\n",
        "from keras import backend as K\n",
        "from keras.models import load_model, Model\n",
        "from keras.layers import Flatten, Dense, Dropout, Activation, Input, LSTM, Reshape, Conv2D, MaxPooling2D\n",
        "from keras.optimizers import Adam\n",
        "from keras.layers import LeakyReLU\n",
        "# from keras.layers.advanced_activations import LeakyReLU\n",
        "from keras.utils import to_categorical\n",
        "# from keras.utils import np_utils\n",
        "\n",
        "from sklearn.metrics import classification_report, accuracy_score\n",
        "import matplotlib.pyplot as plt\n",
        "\n",
        "# set random seeds\n",
        "np.random.seed(1)\n",
        "tf.random.set_seed(2)"
      ],
      "metadata": {
        "id": "QoQe5U4yBOTP"
      },
      "execution_count": null,
      "outputs": []
    },
    {
      "cell_type": "code",
      "source": [
        "def prepare_x(data):\n",
        "    df1 = data[:40, :].T\n",
        "    return np.array(df1)\n",
        "\n",
        "def get_label(data):\n",
        "    lob = data[-5:, :].T\n",
        "    return lob\n",
        "\n",
        "def data_classification(X, Y, T):\n",
        "    [N, D] = X.shape\n",
        "    df = np.array(X)\n",
        "    dY = np.array(Y)\n",
        "    dataY = dY[T - 1:N]\n",
        "    dataX = np.zeros((N - T + 1, T, D))\n",
        "    for i in range(T, N + 1):\n",
        "        dataX[i - T] = df[i - T:i, :]\n",
        "    return dataX.reshape(dataX.shape + (1,)), dataY\n",
        "\n",
        "def prepare_x_y(data, k, T):\n",
        "    x = prepare_x(data)\n",
        "    y = get_label(data)\n",
        "    x, y = data_classification(x, y, T=T)\n",
        "    y = y[:,k] - 1\n",
        "    y = to_categorical(y, 3)\n",
        "    return x, y"
      ],
      "metadata": {
        "id": "5a1ZNnSjBQ7q"
      },
      "execution_count": null,
      "outputs": []
    },
    {
      "cell_type": "code",
      "source": [
        "k = 4 # which prediction horizon\n",
        "T = 10 # the length of a single input i. e lookback_timestep THIS HYPERPARAMETER IS FINE TUNED FOR MODEL CONVERGENCE\n",
        "n_hiddens = 64\n",
        "checkpoint_filepath = '/content/drive/MyDrive/path_to_your_model_checkpoints/'\n",
        "# checkpoint_filepath = './model_tensorflow2/weights'"
      ],
      "metadata": {
        "id": "gE7CLstKBSpr"
      },
      "execution_count": null,
      "outputs": []
    },
    {
      "cell_type": "code",
      "source": [
        "# Training Dataset Shrinking\n",
        "# dec_train = dec_train[:,:50000]\n",
        "print(dec_train.shape)\n",
        "trainX_CNN, trainY_CNN = prepare_x_y(dec_train, k, T)\n",
        "print(trainX_CNN.shape, trainY_CNN.shape)"
      ],
      "metadata": {
        "colab": {
          "base_uri": "https://localhost:8080/"
        },
        "id": "NubSWmNjBWD4",
        "outputId": "4fece891-c5d5-4b99-b13e-e7ea9f893c01"
      },
      "execution_count": null,
      "outputs": [
        {
          "output_type": "stream",
          "name": "stdout",
          "text": [
            "(149, 203800)\n",
            "(203791, 10, 40, 1) (203791, 3)\n"
          ]
        }
      ]
    },
    {
      "cell_type": "code",
      "source": [
        "# Testing Dataset Shrinking\n",
        "# dec_test = dec_test[:,:20000]\n",
        "print(dec_test.shape)\n",
        "testX_CNN, testY_CNN = prepare_x_y(dec_test, k, T)\n",
        "print(testX_CNN.shape, testY_CNN.shape)"
      ],
      "metadata": {
        "colab": {
          "base_uri": "https://localhost:8080/"
        },
        "id": "bI2kVMq3BYOe",
        "outputId": "2db3df72-e37a-4806-8daa-195a9c67bd00"
      },
      "execution_count": null,
      "outputs": [
        {
          "output_type": "stream",
          "name": "stdout",
          "text": [
            "(149, 159822)\n",
            "(159813, 10, 40, 1) (159813, 3)\n"
          ]
        }
      ]
    },
    {
      "cell_type": "code",
      "source": [
        "\n",
        "# Validation Dataset Shrinking\n",
        "# dec_val = dec_val[:,:10000]\n",
        "print(dec_val.shape)\n",
        "valX_CNN, valY_CNN = prepare_x_y(dec_val, k, T)\n",
        "print(valX_CNN.shape, valY_CNN.shape)"
      ],
      "metadata": {
        "colab": {
          "base_uri": "https://localhost:8080/"
        },
        "id": "d8WN89lWBZ1p",
        "outputId": "af18ffbf-2a1d-49c0-fa25-0e5be656412b"
      },
      "execution_count": null,
      "outputs": [
        {
          "output_type": "stream",
          "name": "stdout",
          "text": [
            "(149, 50950)\n",
            "(50941, 10, 40, 1) (50941, 3)\n"
          ]
        }
      ]
    },
    {
      "cell_type": "code",
      "source": [
        "print(trainX_CNN.shape, trainY_CNN.shape)\n",
        "print(valX_CNN.shape, valY_CNN.shape)\n",
        "print(testX_CNN.shape, testY_CNN.shape)"
      ],
      "metadata": {
        "colab": {
          "base_uri": "https://localhost:8080/"
        },
        "id": "_vUIbc0zBbvk",
        "outputId": "204668be-3838-4f12-9b2e-1633f50aa780"
      },
      "execution_count": null,
      "outputs": [
        {
          "output_type": "stream",
          "name": "stdout",
          "text": [
            "(203791, 10, 40, 1) (203791, 3)\n",
            "(50941, 10, 40, 1) (50941, 3)\n",
            "(159813, 10, 40, 1) (159813, 3)\n"
          ]
        }
      ]
    },
    {
      "cell_type": "code",
      "source": [
        "from keras.layers import Bidirectional\n",
        "def create_deeplob(T, NF, number_of_lstm):\n",
        "    input_lmd = Input(shape=(T, NF, 1))\n",
        "\n",
        "    # build the convolutional block\n",
        "    conv_first1 = Conv2D(32, (1, 2), strides=(1, 2))(input_lmd)\n",
        "    conv_first1 = keras.layers.LeakyReLU(alpha=0.01)(conv_first1)\n",
        "    conv_first1 = Conv2D(32, (4, 1), padding='same')(conv_first1)\n",
        "    conv_first1 = keras.layers.LeakyReLU(alpha=0.01)(conv_first1)\n",
        "    conv_first1 = Conv2D(32, (4, 1), padding='same')(conv_first1)\n",
        "    conv_first1 = keras.layers.LeakyReLU(alpha=0.01)(conv_first1)\n",
        "\n",
        "    conv_first1 = Conv2D(32, (1, 2), strides=(1, 2))(conv_first1)\n",
        "    conv_first1 = keras.layers.LeakyReLU(alpha=0.01)(conv_first1)\n",
        "    conv_first1 = Conv2D(32, (4, 1), padding='same')(conv_first1)\n",
        "    conv_first1 = keras.layers.LeakyReLU(alpha=0.01)(conv_first1)\n",
        "    conv_first1 = Conv2D(32, (4, 1), padding='same')(conv_first1)\n",
        "    conv_first1 = keras.layers.LeakyReLU(alpha=0.01)(conv_first1)\n",
        "\n",
        "    conv_first1 = Conv2D(32, (1, 10))(conv_first1)\n",
        "    conv_first1 = keras.layers.LeakyReLU(alpha=0.01)(conv_first1)\n",
        "    conv_first1 = Conv2D(32, (4, 1), padding='same')(conv_first1)\n",
        "    conv_first1 = keras.layers.LeakyReLU(alpha=0.01)(conv_first1)\n",
        "    conv_first1 = Conv2D(32, (4, 1), padding='same')(conv_first1)\n",
        "    conv_first1 = keras.layers.LeakyReLU(alpha=0.01)(conv_first1)\n",
        "\n",
        "    # build the inception module\n",
        "    convsecond_1 = Conv2D(64, (1, 1), padding='same')(conv_first1)\n",
        "    convsecond_1 = keras.layers.LeakyReLU(alpha=0.01)(convsecond_1)\n",
        "    convsecond_1 = Conv2D(64, (3, 1), padding='same')(convsecond_1)\n",
        "    convsecond_1 = keras.layers.LeakyReLU(alpha=0.01)(convsecond_1)\n",
        "\n",
        "    convsecond_2 = Conv2D(64, (1, 1), padding='same')(conv_first1)\n",
        "    convsecond_2 = keras.layers.LeakyReLU(alpha=0.01)(convsecond_2)\n",
        "    convsecond_2 = Conv2D(64, (5, 1), padding='same')(convsecond_2)\n",
        "    convsecond_2 = keras.layers.LeakyReLU(alpha=0.01)(convsecond_2)\n",
        "\n",
        "    convsecond_3 = MaxPooling2D((3, 1), strides=(1, 1), padding='same')(conv_first1)\n",
        "    convsecond_3 = Conv2D(64, (1, 1), padding='same')(convsecond_3)\n",
        "    convsecond_3 = keras.layers.LeakyReLU(alpha=0.01)(convsecond_3)\n",
        "\n",
        "    convsecond_output = keras.layers.concatenate([convsecond_1, convsecond_2, convsecond_3], axis=3)\n",
        "    conv_reshape = Reshape((int(convsecond_output.shape[1]), int(convsecond_output.shape[3])))(convsecond_output)\n",
        "    conv_reshape = keras.layers.Dropout(0.2, noise_shape=(None, 1, int(conv_reshape.shape[2])))(conv_reshape, training=True)\n",
        "\n",
        "    # build the last Bidirectional LSTM layer\n",
        "    conv_bi_lstm = Bidirectional(LSTM(number_of_lstm))(conv_reshape)\n",
        "\n",
        "    # build the output layer\n",
        "    out = Dense(3, activation='softmax')(conv_bi_lstm)\n",
        "\n",
        "    model = Model(inputs=input_lmd, outputs=out)\n",
        "    adam = keras.optimizers.Adam(lr=0.0001)\n",
        "    model.compile(optimizer=adam, loss='categorical_crossentropy', metrics=['accuracy'])\n",
        "\n",
        "    return model\n",
        "\n",
        "deeplob_bidirectional = create_deeplob(trainX_CNN.shape[1], trainX_CNN.shape[2], n_hiddens)\n",
        "deeplob_bidirectional.summary()"
      ],
      "metadata": {
        "colab": {
          "base_uri": "https://localhost:8080/"
        },
        "id": "k3dH8BwbBdlu",
        "outputId": "2254465a-a555-4bd1-85b7-4986ca496cd3"
      },
      "execution_count": null,
      "outputs": [
        {
          "output_type": "stream",
          "name": "stderr",
          "text": [
            "WARNING:absl:`lr` is deprecated in Keras optimizer, please use `learning_rate` or use the legacy optimizer, e.g.,tf.keras.optimizers.legacy.Adam.\n"
          ]
        },
        {
          "output_type": "stream",
          "name": "stdout",
          "text": [
            "Model: \"model\"\n",
            "__________________________________________________________________________________________________\n",
            " Layer (type)                Output Shape                 Param #   Connected to                  \n",
            "==================================================================================================\n",
            " input_2 (InputLayer)        [(None, 10, 40, 1)]          0         []                            \n",
            "                                                                                                  \n",
            " conv2d_14 (Conv2D)          (None, 10, 20, 32)           96        ['input_2[0][0]']             \n",
            "                                                                                                  \n",
            " leaky_re_lu_14 (LeakyReLU)  (None, 10, 20, 32)           0         ['conv2d_14[0][0]']           \n",
            "                                                                                                  \n",
            " conv2d_15 (Conv2D)          (None, 10, 20, 32)           4128      ['leaky_re_lu_14[0][0]']      \n",
            "                                                                                                  \n",
            " leaky_re_lu_15 (LeakyReLU)  (None, 10, 20, 32)           0         ['conv2d_15[0][0]']           \n",
            "                                                                                                  \n",
            " conv2d_16 (Conv2D)          (None, 10, 20, 32)           4128      ['leaky_re_lu_15[0][0]']      \n",
            "                                                                                                  \n",
            " leaky_re_lu_16 (LeakyReLU)  (None, 10, 20, 32)           0         ['conv2d_16[0][0]']           \n",
            "                                                                                                  \n",
            " conv2d_17 (Conv2D)          (None, 10, 10, 32)           2080      ['leaky_re_lu_16[0][0]']      \n",
            "                                                                                                  \n",
            " leaky_re_lu_17 (LeakyReLU)  (None, 10, 10, 32)           0         ['conv2d_17[0][0]']           \n",
            "                                                                                                  \n",
            " conv2d_18 (Conv2D)          (None, 10, 10, 32)           4128      ['leaky_re_lu_17[0][0]']      \n",
            "                                                                                                  \n",
            " leaky_re_lu_18 (LeakyReLU)  (None, 10, 10, 32)           0         ['conv2d_18[0][0]']           \n",
            "                                                                                                  \n",
            " conv2d_19 (Conv2D)          (None, 10, 10, 32)           4128      ['leaky_re_lu_18[0][0]']      \n",
            "                                                                                                  \n",
            " leaky_re_lu_19 (LeakyReLU)  (None, 10, 10, 32)           0         ['conv2d_19[0][0]']           \n",
            "                                                                                                  \n",
            " conv2d_20 (Conv2D)          (None, 10, 1, 32)            10272     ['leaky_re_lu_19[0][0]']      \n",
            "                                                                                                  \n",
            " leaky_re_lu_20 (LeakyReLU)  (None, 10, 1, 32)            0         ['conv2d_20[0][0]']           \n",
            "                                                                                                  \n",
            " conv2d_21 (Conv2D)          (None, 10, 1, 32)            4128      ['leaky_re_lu_20[0][0]']      \n",
            "                                                                                                  \n",
            " leaky_re_lu_21 (LeakyReLU)  (None, 10, 1, 32)            0         ['conv2d_21[0][0]']           \n",
            "                                                                                                  \n",
            " conv2d_22 (Conv2D)          (None, 10, 1, 32)            4128      ['leaky_re_lu_21[0][0]']      \n",
            "                                                                                                  \n",
            " leaky_re_lu_22 (LeakyReLU)  (None, 10, 1, 32)            0         ['conv2d_22[0][0]']           \n",
            "                                                                                                  \n",
            " conv2d_23 (Conv2D)          (None, 10, 1, 64)            2112      ['leaky_re_lu_22[0][0]']      \n",
            "                                                                                                  \n",
            " conv2d_25 (Conv2D)          (None, 10, 1, 64)            2112      ['leaky_re_lu_22[0][0]']      \n",
            "                                                                                                  \n",
            " leaky_re_lu_23 (LeakyReLU)  (None, 10, 1, 64)            0         ['conv2d_23[0][0]']           \n",
            "                                                                                                  \n",
            " leaky_re_lu_25 (LeakyReLU)  (None, 10, 1, 64)            0         ['conv2d_25[0][0]']           \n",
            "                                                                                                  \n",
            " max_pooling2d_1 (MaxPoolin  (None, 10, 1, 32)            0         ['leaky_re_lu_22[0][0]']      \n",
            " g2D)                                                                                             \n",
            "                                                                                                  \n",
            " conv2d_24 (Conv2D)          (None, 10, 1, 64)            12352     ['leaky_re_lu_23[0][0]']      \n",
            "                                                                                                  \n",
            " conv2d_26 (Conv2D)          (None, 10, 1, 64)            20544     ['leaky_re_lu_25[0][0]']      \n",
            "                                                                                                  \n",
            " conv2d_27 (Conv2D)          (None, 10, 1, 64)            2112      ['max_pooling2d_1[0][0]']     \n",
            "                                                                                                  \n",
            " leaky_re_lu_24 (LeakyReLU)  (None, 10, 1, 64)            0         ['conv2d_24[0][0]']           \n",
            "                                                                                                  \n",
            " leaky_re_lu_26 (LeakyReLU)  (None, 10, 1, 64)            0         ['conv2d_26[0][0]']           \n",
            "                                                                                                  \n",
            " leaky_re_lu_27 (LeakyReLU)  (None, 10, 1, 64)            0         ['conv2d_27[0][0]']           \n",
            "                                                                                                  \n",
            " concatenate_1 (Concatenate  (None, 10, 1, 192)           0         ['leaky_re_lu_24[0][0]',      \n",
            " )                                                                   'leaky_re_lu_26[0][0]',      \n",
            "                                                                     'leaky_re_lu_27[0][0]']      \n",
            "                                                                                                  \n",
            " reshape_1 (Reshape)         (None, 10, 192)              0         ['concatenate_1[0][0]']       \n",
            "                                                                                                  \n",
            " dropout_1 (Dropout)         (None, 10, 192)              0         ['reshape_1[0][0]']           \n",
            "                                                                                                  \n",
            " bidirectional (Bidirection  (None, 128)                  131584    ['dropout_1[0][0]']           \n",
            " al)                                                                                              \n",
            "                                                                                                  \n",
            " dense (Dense)               (None, 3)                    387       ['bidirectional[0][0]']       \n",
            "                                                                                                  \n",
            "==================================================================================================\n",
            "Total params: 208419 (814.14 KB)\n",
            "Trainable params: 208419 (814.14 KB)\n",
            "Non-trainable params: 0 (0.00 Byte)\n",
            "__________________________________________________________________________________________________\n"
          ]
        }
      ]
    },
    {
      "cell_type": "code",
      "source": [
        "%%time\n",
        "\n",
        "model_checkpoint_callback = tf.keras.callbacks.ModelCheckpoint(\n",
        "    filepath=checkpoint_filepath,\n",
        "    save_weights_only=True,\n",
        "    monitor='val_loss',\n",
        "    mode='auto',\n",
        "    save_best_only=True)\n",
        "\n",
        "deeplob_bidirectional.fit(trainX_CNN, trainY_CNN, validation_data=(valX_CNN, valY_CNN),\n",
        "            epochs=20, batch_size=128, verbose=2, callbacks=[model_checkpoint_callback])"
      ],
      "metadata": {
        "colab": {
          "base_uri": "https://localhost:8080/"
        },
        "id": "9fbF-YRWBgG7",
        "outputId": "08a4c956-8066-4de4-b177-4c604b3993da"
      },
      "execution_count": null,
      "outputs": [
        {
          "output_type": "stream",
          "name": "stdout",
          "text": [
            "Epoch 1/20\n",
            "1593/1593 - 54s - loss: 0.8958 - accuracy: 0.5488 - val_loss: 0.8250 - val_accuracy: 0.6291 - 54s/epoch - 34ms/step\n",
            "Epoch 2/20\n",
            "1593/1593 - 22s - loss: 0.5641 - accuracy: 0.7738 - val_loss: 0.7584 - val_accuracy: 0.6738 - 22s/epoch - 14ms/step\n",
            "Epoch 3/20\n",
            "1593/1593 - 20s - loss: 0.5033 - accuracy: 0.8043 - val_loss: 0.7288 - val_accuracy: 0.6932 - 20s/epoch - 12ms/step\n",
            "Epoch 4/20\n",
            "1593/1593 - 21s - loss: 0.4706 - accuracy: 0.8198 - val_loss: 0.7147 - val_accuracy: 0.7015 - 21s/epoch - 13ms/step\n",
            "Epoch 5/20\n",
            "1593/1593 - 19s - loss: 0.4451 - accuracy: 0.8311 - val_loss: 0.7261 - val_accuracy: 0.6977 - 19s/epoch - 12ms/step\n",
            "Epoch 6/20\n",
            "1593/1593 - 20s - loss: 0.4265 - accuracy: 0.8400 - val_loss: 0.7320 - val_accuracy: 0.6977 - 20s/epoch - 12ms/step\n",
            "Epoch 7/20\n",
            "1593/1593 - 19s - loss: 0.4097 - accuracy: 0.8467 - val_loss: 0.7557 - val_accuracy: 0.6886 - 19s/epoch - 12ms/step\n",
            "Epoch 8/20\n",
            "1593/1593 - 20s - loss: 0.3953 - accuracy: 0.8531 - val_loss: 0.7407 - val_accuracy: 0.7012 - 20s/epoch - 12ms/step\n",
            "Epoch 9/20\n",
            "1593/1593 - 19s - loss: 0.3828 - accuracy: 0.8581 - val_loss: 0.7755 - val_accuracy: 0.6859 - 19s/epoch - 12ms/step\n",
            "Epoch 10/20\n",
            "1593/1593 - 20s - loss: 0.3707 - accuracy: 0.8639 - val_loss: 0.8000 - val_accuracy: 0.6885 - 20s/epoch - 13ms/step\n",
            "Epoch 11/20\n",
            "1593/1593 - 19s - loss: 0.3609 - accuracy: 0.8678 - val_loss: 0.8052 - val_accuracy: 0.6852 - 19s/epoch - 12ms/step\n",
            "Epoch 12/20\n",
            "1593/1593 - 18s - loss: 0.3516 - accuracy: 0.8708 - val_loss: 0.8208 - val_accuracy: 0.6814 - 18s/epoch - 12ms/step\n",
            "Epoch 13/20\n",
            "1593/1593 - 18s - loss: 0.3425 - accuracy: 0.8753 - val_loss: 0.8605 - val_accuracy: 0.6759 - 18s/epoch - 11ms/step\n",
            "Epoch 14/20\n",
            "1593/1593 - 19s - loss: 0.3358 - accuracy: 0.8784 - val_loss: 0.8491 - val_accuracy: 0.6812 - 19s/epoch - 12ms/step\n",
            "Epoch 15/20\n",
            "1593/1593 - 20s - loss: 0.3283 - accuracy: 0.8806 - val_loss: 0.8619 - val_accuracy: 0.6826 - 20s/epoch - 12ms/step\n",
            "Epoch 16/20\n",
            "1593/1593 - 18s - loss: 0.3229 - accuracy: 0.8830 - val_loss: 0.8631 - val_accuracy: 0.6925 - 18s/epoch - 11ms/step\n",
            "Epoch 17/20\n",
            "1593/1593 - 19s - loss: 0.3179 - accuracy: 0.8844 - val_loss: 0.9004 - val_accuracy: 0.6811 - 19s/epoch - 12ms/step\n",
            "Epoch 18/20\n",
            "1593/1593 - 18s - loss: 0.3115 - accuracy: 0.8870 - val_loss: 0.8768 - val_accuracy: 0.6844 - 18s/epoch - 11ms/step\n",
            "Epoch 19/20\n",
            "1593/1593 - 19s - loss: 0.3071 - accuracy: 0.8883 - val_loss: 0.9087 - val_accuracy: 0.6791 - 19s/epoch - 12ms/step\n",
            "Epoch 20/20\n",
            "1593/1593 - 20s - loss: 0.3029 - accuracy: 0.8895 - val_loss: 0.8819 - val_accuracy: 0.6817 - 20s/epoch - 12ms/step\n",
            "CPU times: user 7min 8s, sys: 21.8 s, total: 7min 30s\n",
            "Wall time: 7min 33s\n"
          ]
        },
        {
          "output_type": "execute_result",
          "data": {
            "text/plain": [
              "<keras.src.callbacks.History at 0x7e004c1d74c0>"
            ]
          },
          "metadata": {},
          "execution_count": 14
        }
      ]
    },
    {
      "cell_type": "code",
      "source": [
        "deeplob_bidirectional.load_weights(checkpoint_filepath)\n",
        "pred = deeplob_bidirectional.predict(testX_CNN)"
      ],
      "metadata": {
        "colab": {
          "base_uri": "https://localhost:8080/"
        },
        "id": "bOmfRAgeLqsQ",
        "outputId": "a7fab4aa-c87e-4803-d687-488c47668699"
      },
      "execution_count": null,
      "outputs": [
        {
          "output_type": "stream",
          "name": "stdout",
          "text": [
            "4995/4995 [==============================] - 27s 5ms/step\n"
          ]
        }
      ]
    },
    {
      "cell_type": "code",
      "source": [
        "print('accuracy_score:', accuracy_score(np.argmax(testY_CNN, axis=1), np.argmax(pred, axis=1)))\n",
        "print(classification_report(np.argmax(testY_CNN, axis=1), np.argmax(pred, axis=1), digits=4))"
      ],
      "metadata": {
        "colab": {
          "base_uri": "https://localhost:8080/"
        },
        "id": "cm2K8edqL7EE",
        "outputId": "4a34d225-dcae-4d63-a88e-b44bf1326b26"
      },
      "execution_count": null,
      "outputs": [
        {
          "output_type": "stream",
          "name": "stdout",
          "text": [
            "accuracy_score: 0.787670590002065\n",
            "              precision    recall  f1-score   support\n",
            "\n",
            "           0     0.7702    0.7775    0.7738     53063\n",
            "           1     0.8558    0.7909    0.8221     57151\n",
            "           2     0.7379    0.7949    0.7653     49599\n",
            "\n",
            "    accuracy                         0.7877    159813\n",
            "   macro avg     0.7879    0.7877    0.7871    159813\n",
            "weighted avg     0.7908    0.7877    0.7884    159813\n",
            "\n"
          ]
        }
      ]
    },
    {
      "cell_type": "code",
      "source": [
        "from sklearn.metrics import accuracy_score, classification_report, confusion_matrix, ConfusionMatrixDisplay\n",
        "c = confusion_matrix(np.argmax(testY_CNN, axis=1), np.argmax(pred, axis=1), normalize=\"true\")\n",
        "disp = ConfusionMatrixDisplay(c)\n",
        "disp.plot()\n",
        "plt.show()"
      ],
      "metadata": {
        "colab": {
          "base_uri": "https://localhost:8080/",
          "height": 449
        },
        "id": "vdUaXAcjL-R1",
        "outputId": "7be214e4-2ae5-4270-9f0e-46e42b0ad200"
      },
      "execution_count": null,
      "outputs": [
        {
          "output_type": "display_data",
          "data": {
            "text/plain": [
              "<Figure size 640x480 with 2 Axes>"
            ],
            "image/png": "[encoded data removed]"
          },
          "metadata": {}
        }
      ]
    }
  ]
}