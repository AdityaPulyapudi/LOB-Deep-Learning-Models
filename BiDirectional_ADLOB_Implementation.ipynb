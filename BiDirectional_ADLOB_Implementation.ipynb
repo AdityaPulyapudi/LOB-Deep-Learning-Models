{
  "nbformat": 4,
  "nbformat_minor": 0,
  "metadata": {
    "colab": {
      "provenance": [],
      "gpuType": "T4"
    },
    "kernelspec": {
      "name": "python3",
      "display_name": "Python 3"
    },
    "language_info": {
      "name": "python"
    },
    "accelerator": "GPU"
  },
  "cells": [
    {
      "cell_type": "code",
      "execution_count": 1,
      "metadata": {
        "id": "HE8wSgKA-zUK",
        "colab": {
          "base_uri": "https://localhost:8080/"
        },
        "outputId": "f988ebac-2005-4f60-80e6-b04ee478aae1"
      },
      "outputs": [
        {
          "output_type": "stream",
          "name": "stdout",
          "text": [
            "Mounted at /content/drive\n"
          ]
        }
      ],
      "source": [
        "from google.colab import drive\n",
        "drive.mount('/content/drive')"
      ]
    },
    {
      "cell_type": "code",
      "source": [
        "import torch\n",
        "device = torch.device(\"cuda:0\" if torch.cuda.is_available() else \"cpu\")\n",
        "print(device)"
      ],
      "metadata": {
        "colab": {
          "base_uri": "https://localhost:8080/"
        },
        "id": "eD5q_zh7Axpd",
        "outputId": "eab6d28b-0c06-4f9f-e3d5-92cf81ac60ff"
      },
      "execution_count": 2,
      "outputs": [
        {
          "output_type": "stream",
          "name": "stdout",
          "text": [
            "cuda:0\n"
          ]
        }
      ]
    },
    {
      "cell_type": "code",
      "source": [
        "import numpy as np\n",
        "\n",
        "dec_data = np.loadtxt('/content/drive/MyDrive/Copy of Train_Dst_NoAuction_DecPre_CF_7.txt')\n",
        "dec_train = dec_data[:, :int(np.floor(dec_data.shape[1] * 0.8))]\n",
        "dec_val = dec_data[:, int(np.floor(dec_data.shape[1] * 0.8)):]\n",
        "\n",
        "dec_test1 = np.loadtxt('/content/drive/MyDrive/Copy of Test_Dst_NoAuction_DecPre_CF_7.txt')\n",
        "dec_test2 = np.loadtxt('/content/drive/MyDrive/Copy of Test_Dst_NoAuction_DecPre_CF_8.txt')\n",
        "dec_test3 = np.loadtxt('/content/drive/MyDrive/Copy of Test_Dst_NoAuction_DecPre_CF_8.txt')\n",
        "dec_test = np.hstack((dec_test1, dec_test2, dec_test3))\n",
        "\n",
        "print(dec_data.shape)\n",
        "print(dec_train.shape)\n",
        "print(dec_val.shape)\n",
        "print(dec_test.shape)"
      ],
      "metadata": {
        "colab": {
          "base_uri": "https://localhost:8080/"
        },
        "id": "M9qS_jUeA0l4",
        "outputId": "5a5bcad3-dd11-4373-e136-d023a736170a"
      },
      "execution_count": 3,
      "outputs": [
        {
          "output_type": "stream",
          "name": "stdout",
          "text": [
            "(149, 254750)\n",
            "(149, 203800)\n",
            "(149, 50950)\n",
            "(149, 159822)\n"
          ]
        }
      ]
    },
    {
      "cell_type": "code",
      "source": [
        "# load packages\n",
        "import pandas as pd\n",
        "import pickle\n",
        "import numpy as np\n",
        "import keras\n",
        "import tensorflow as tf\n",
        "from keras import backend as K\n",
        "from keras.models import load_model, Model\n",
        "from keras.layers import Flatten, Dense, Dropout, Activation, Input, LSTM, Reshape, Conv2D, MaxPooling2D\n",
        "from keras.optimizers import Adam\n",
        "from keras.layers import LeakyReLU\n",
        "# from keras.layers.advanced_activations import LeakyReLU\n",
        "from keras.utils import to_categorical\n",
        "# from keras.utils import np_utils\n",
        "\n",
        "from sklearn.metrics import classification_report, accuracy_score\n",
        "import matplotlib.pyplot as plt\n",
        "\n",
        "# set random seeds\n",
        "np.random.seed(1)\n",
        "tf.random.set_seed(2)"
      ],
      "metadata": {
        "id": "QoQe5U4yBOTP"
      },
      "execution_count": 4,
      "outputs": []
    },
    {
      "cell_type": "code",
      "source": [
        "def prepare_x(data):\n",
        "    df1 = data[:40, :].T\n",
        "    return np.array(df1)\n",
        "\n",
        "def get_label(data):\n",
        "    lob = data[-5:, :].T\n",
        "    return lob\n",
        "\n",
        "def data_classification(X, Y, T):\n",
        "    [N, D] = X.shape\n",
        "    df = np.array(X)\n",
        "    dY = np.array(Y)\n",
        "    dataY = dY[T - 1:N]\n",
        "    dataX = np.zeros((N - T + 1, T, D))\n",
        "    for i in range(T, N + 1):\n",
        "        dataX[i - T] = df[i - T:i, :]\n",
        "    return dataX.reshape(dataX.shape + (1,)), dataY\n",
        "\n",
        "def prepare_x_y(data, k, T):\n",
        "    x = prepare_x(data)\n",
        "    y = get_label(data)\n",
        "    x, y = data_classification(x, y, T=T)\n",
        "    y = y[:,k] - 1\n",
        "    y = to_categorical(y, 3)\n",
        "    return x, y"
      ],
      "metadata": {
        "id": "5a1ZNnSjBQ7q"
      },
      "execution_count": 5,
      "outputs": []
    },
    {
      "cell_type": "code",
      "source": [
        "import tensorflow as tf\n",
        "from tensorflow.keras.layers import Layer\n",
        "\n",
        "class AttentionLayer(Layer):\n",
        "    def __init__(self, **kwargs):\n",
        "        super(AttentionLayer, self).__init__(**kwargs)\n",
        "\n",
        "    def build(self, input_shape):\n",
        "        # Create a trainable weight variable for this layer.\n",
        "        self.W = self.add_weight(name='attention_weight',\n",
        "                                 shape=(input_shape[-1], input_shape[-1]),\n",
        "                                 initializer='random_normal',\n",
        "                                 trainable=True)\n",
        "        super(AttentionLayer, self).build(input_shape)\n",
        "\n",
        "    def call(self, x):\n",
        "        # Calculate attention scores\n",
        "        e = tf.keras.backend.dot(x, self.W)\n",
        "\n",
        "        # Calculate attention weights using softmax activation\n",
        "        a = tf.keras.activations.softmax(e, axis=-2)\n",
        "\n",
        "        # Apply attention weights to the input sequence\n",
        "        output = x * a\n",
        "\n",
        "        # Sum the weighted inputs to get the attention output\n",
        "        output = tf.keras.backend.sum(output, axis=-2)\n",
        "\n",
        "        return output\n",
        "\n",
        "    def compute_output_shape(self, input_shape):\n",
        "        return input_shape\n"
      ],
      "metadata": {
        "id": "r4FvlMRHGm97"
      },
      "execution_count": 6,
      "outputs": []
    },
    {
      "cell_type": "code",
      "source": [
        "k = 4 # which prediction horizon\n",
        "T = 10 # the length of a single input i. e lookback_timestep THIS HYPERPARAMETER IS FINE TUNED FOR MODEL CONVERGENCE\n",
        "n_hiddens = 64\n",
        "checkpoint_filepath = '/content/drive/MyDrive/path_to_your_model_checkpoints/'\n",
        "# checkpoint_filepath = './model_tensorflow2/weights'"
      ],
      "metadata": {
        "id": "gE7CLstKBSpr"
      },
      "execution_count": 7,
      "outputs": []
    },
    {
      "cell_type": "code",
      "source": [
        "# # Training Dataset Shrinking\n",
        "# dec_train = dec_train[:,:50000]\n",
        "print(dec_train.shape)\n",
        "trainX_CNN, trainY_CNN = prepare_x_y(dec_train, k, T)\n",
        "print(trainX_CNN.shape, trainY_CNN.shape)"
      ],
      "metadata": {
        "colab": {
          "base_uri": "https://localhost:8080/"
        },
        "id": "NubSWmNjBWD4",
        "outputId": "b4f23663-2ac5-4abc-805b-0e7c60ac1696"
      },
      "execution_count": 8,
      "outputs": [
        {
          "output_type": "stream",
          "name": "stdout",
          "text": [
            "(149, 203800)\n",
            "(203791, 10, 40, 1) (203791, 3)\n"
          ]
        }
      ]
    },
    {
      "cell_type": "code",
      "source": [
        "# Testing Dataset Shrinking\n",
        "# dec_test = dec_test[:,:20000]\n",
        "print(dec_test.shape)\n",
        "testX_CNN, testY_CNN = prepare_x_y(dec_test, k, T)\n",
        "print(testX_CNN.shape, testY_CNN.shape)"
      ],
      "metadata": {
        "colab": {
          "base_uri": "https://localhost:8080/"
        },
        "id": "bI2kVMq3BYOe",
        "outputId": "ea4e1bb8-4703-4535-d370-9036b28b2928"
      },
      "execution_count": 9,
      "outputs": [
        {
          "output_type": "stream",
          "name": "stdout",
          "text": [
            "(149, 159822)\n",
            "(159813, 10, 40, 1) (159813, 3)\n"
          ]
        }
      ]
    },
    {
      "cell_type": "code",
      "source": [
        "\n",
        "# Validation Dataset Shrinking\n",
        "# dec_val = dec_val[:,:10000]\n",
        "print(dec_val.shape)\n",
        "valX_CNN, valY_CNN = prepare_x_y(dec_val, k, T)\n",
        "print(valX_CNN.shape, valY_CNN.shape)"
      ],
      "metadata": {
        "colab": {
          "base_uri": "https://localhost:8080/"
        },
        "id": "d8WN89lWBZ1p",
        "outputId": "0dea99a9-3c4c-4b37-e8e1-06c2828c180a"
      },
      "execution_count": 10,
      "outputs": [
        {
          "output_type": "stream",
          "name": "stdout",
          "text": [
            "(149, 50950)\n",
            "(50941, 10, 40, 1) (50941, 3)\n"
          ]
        }
      ]
    },
    {
      "cell_type": "code",
      "source": [
        "print(trainX_CNN.shape, trainY_CNN.shape)\n",
        "print(valX_CNN.shape, valY_CNN.shape)\n",
        "print(testX_CNN.shape, testY_CNN.shape)"
      ],
      "metadata": {
        "colab": {
          "base_uri": "https://localhost:8080/"
        },
        "id": "_vUIbc0zBbvk",
        "outputId": "af2fb026-9305-4396-8591-d12650e78f9d"
      },
      "execution_count": 11,
      "outputs": [
        {
          "output_type": "stream",
          "name": "stdout",
          "text": [
            "(203791, 10, 40, 1) (203791, 3)\n",
            "(50941, 10, 40, 1) (50941, 3)\n",
            "(159813, 10, 40, 1) (159813, 3)\n"
          ]
        }
      ]
    },
    {
      "cell_type": "code",
      "source": [
        "from keras.layers import Bidirectional\n",
        "def create_deeplob(T, NF, number_of_lstm):\n",
        "    input_lmd = Input(shape=(T, NF, 1))\n",
        "\n",
        "    # build the convolutional block\n",
        "    conv_first1 = Conv2D(32, (1, 2), strides=(1, 2))(input_lmd)\n",
        "    conv_first1 = keras.layers.LeakyReLU(alpha=0.01)(conv_first1)\n",
        "    conv_first1 = Conv2D(32, (4, 1), padding='same')(conv_first1)\n",
        "    conv_first1 = keras.layers.LeakyReLU(alpha=0.01)(conv_first1)\n",
        "    conv_first1 = Conv2D(32, (4, 1), padding='same')(conv_first1)\n",
        "    conv_first1 = keras.layers.LeakyReLU(alpha=0.01)(conv_first1)\n",
        "\n",
        "    conv_first1 = Conv2D(32, (1, 2), strides=(1, 2))(conv_first1)\n",
        "    conv_first1 = keras.layers.LeakyReLU(alpha=0.01)(conv_first1)\n",
        "    conv_first1 = Conv2D(32, (4, 1), padding='same')(conv_first1)\n",
        "    conv_first1 = keras.layers.LeakyReLU(alpha=0.01)(conv_first1)\n",
        "    conv_first1 = Conv2D(32, (4, 1), padding='same')(conv_first1)\n",
        "    conv_first1 = keras.layers.LeakyReLU(alpha=0.01)(conv_first1)\n",
        "\n",
        "    conv_first1 = Conv2D(32, (1, 10))(conv_first1)\n",
        "    conv_first1 = keras.layers.LeakyReLU(alpha=0.01)(conv_first1)\n",
        "    conv_first1 = Conv2D(32, (4, 1), padding='same')(conv_first1)\n",
        "    conv_first1 = keras.layers.LeakyReLU(alpha=0.01)(conv_first1)\n",
        "    conv_first1 = Conv2D(32, (4, 1), padding='same')(conv_first1)\n",
        "    conv_first1 = keras.layers.LeakyReLU(alpha=0.01)(conv_first1)\n",
        "\n",
        "    # build the inception module\n",
        "    convsecond_1 = Conv2D(64, (1, 1), padding='same')(conv_first1)\n",
        "    convsecond_1 = keras.layers.LeakyReLU(alpha=0.01)(convsecond_1)\n",
        "    convsecond_1 = Conv2D(64, (3, 1), padding='same')(convsecond_1)\n",
        "    convsecond_1 = keras.layers.LeakyReLU(alpha=0.01)(convsecond_1)\n",
        "\n",
        "    convsecond_2 = Conv2D(64, (1, 1), padding='same')(conv_first1)\n",
        "    convsecond_2 = keras.layers.LeakyReLU(alpha=0.01)(convsecond_2)\n",
        "    convsecond_2 = Conv2D(64, (5, 1), padding='same')(convsecond_2)\n",
        "    convsecond_2 = keras.layers.LeakyReLU(alpha=0.01)(convsecond_2)\n",
        "\n",
        "    convsecond_3 = MaxPooling2D((3, 1), strides=(1, 1), padding='same')(conv_first1)\n",
        "    convsecond_3 = Conv2D(64, (1, 1), padding='same')(convsecond_3)\n",
        "    convsecond_3 = keras.layers.LeakyReLU(alpha=0.01)(convsecond_3)\n",
        "\n",
        "    convsecond_output = keras.layers.concatenate([convsecond_1, convsecond_2, convsecond_3], axis=3)\n",
        "    conv_reshape = Reshape((int(convsecond_output.shape[1]), int(convsecond_output.shape[3])))(convsecond_output)\n",
        "    conv_reshape = keras.layers.Dropout(0.2, noise_shape=(None, 1, int(conv_reshape.shape[2])))(conv_reshape, training=True)\n",
        "\n",
        "    # build the last LSTM layer\n",
        "    conv_bi_lstm = Bidirectional(LSTM(number_of_lstm, return_sequences=True))(conv_reshape)\n",
        "\n",
        "    # add an attention layer\n",
        "    attention_output = AttentionLayer()(conv_bi_lstm)\n",
        "\n",
        "    # build the output layer\n",
        "    out = Dense(3, activation='softmax')(attention_output)\n",
        "\n",
        "    model = Model(inputs=input_lmd, outputs=out)\n",
        "    adam = keras.optimizers.Adam(lr=0.0001)\n",
        "    model.compile(optimizer=adam, loss='categorical_crossentropy', metrics=['accuracy'])\n",
        "\n",
        "    return model\n",
        "\n",
        "deeplob = create_deeplob(trainX_CNN.shape[1], trainX_CNN.shape[2], n_hiddens)\n",
        "deeplob.summary()"
      ],
      "metadata": {
        "colab": {
          "base_uri": "https://localhost:8080/"
        },
        "id": "k3dH8BwbBdlu",
        "outputId": "a179c10b-8375-49fa-a138-a4c288a5c088"
      },
      "execution_count": 12,
      "outputs": [
        {
          "output_type": "stream",
          "name": "stderr",
          "text": [
            "WARNING:absl:`lr` is deprecated in Keras optimizer, please use `learning_rate` or use the legacy optimizer, e.g.,tf.keras.optimizers.legacy.Adam.\n"
          ]
        },
        {
          "output_type": "stream",
          "name": "stdout",
          "text": [
            "Model: \"model\"\n",
            "__________________________________________________________________________________________________\n",
            " Layer (type)                Output Shape                 Param #   Connected to                  \n",
            "==================================================================================================\n",
            " input_1 (InputLayer)        [(None, 10, 40, 1)]          0         []                            \n",
            "                                                                                                  \n",
            " conv2d (Conv2D)             (None, 10, 20, 32)           96        ['input_1[0][0]']             \n",
            "                                                                                                  \n",
            " leaky_re_lu (LeakyReLU)     (None, 10, 20, 32)           0         ['conv2d[0][0]']              \n",
            "                                                                                                  \n",
            " conv2d_1 (Conv2D)           (None, 10, 20, 32)           4128      ['leaky_re_lu[0][0]']         \n",
            "                                                                                                  \n",
            " leaky_re_lu_1 (LeakyReLU)   (None, 10, 20, 32)           0         ['conv2d_1[0][0]']            \n",
            "                                                                                                  \n",
            " conv2d_2 (Conv2D)           (None, 10, 20, 32)           4128      ['leaky_re_lu_1[0][0]']       \n",
            "                                                                                                  \n",
            " leaky_re_lu_2 (LeakyReLU)   (None, 10, 20, 32)           0         ['conv2d_2[0][0]']            \n",
            "                                                                                                  \n",
            " conv2d_3 (Conv2D)           (None, 10, 10, 32)           2080      ['leaky_re_lu_2[0][0]']       \n",
            "                                                                                                  \n",
            " leaky_re_lu_3 (LeakyReLU)   (None, 10, 10, 32)           0         ['conv2d_3[0][0]']            \n",
            "                                                                                                  \n",
            " conv2d_4 (Conv2D)           (None, 10, 10, 32)           4128      ['leaky_re_lu_3[0][0]']       \n",
            "                                                                                                  \n",
            " leaky_re_lu_4 (LeakyReLU)   (None, 10, 10, 32)           0         ['conv2d_4[0][0]']            \n",
            "                                                                                                  \n",
            " conv2d_5 (Conv2D)           (None, 10, 10, 32)           4128      ['leaky_re_lu_4[0][0]']       \n",
            "                                                                                                  \n",
            " leaky_re_lu_5 (LeakyReLU)   (None, 10, 10, 32)           0         ['conv2d_5[0][0]']            \n",
            "                                                                                                  \n",
            " conv2d_6 (Conv2D)           (None, 10, 1, 32)            10272     ['leaky_re_lu_5[0][0]']       \n",
            "                                                                                                  \n",
            " leaky_re_lu_6 (LeakyReLU)   (None, 10, 1, 32)            0         ['conv2d_6[0][0]']            \n",
            "                                                                                                  \n",
            " conv2d_7 (Conv2D)           (None, 10, 1, 32)            4128      ['leaky_re_lu_6[0][0]']       \n",
            "                                                                                                  \n",
            " leaky_re_lu_7 (LeakyReLU)   (None, 10, 1, 32)            0         ['conv2d_7[0][0]']            \n",
            "                                                                                                  \n",
            " conv2d_8 (Conv2D)           (None, 10, 1, 32)            4128      ['leaky_re_lu_7[0][0]']       \n",
            "                                                                                                  \n",
            " leaky_re_lu_8 (LeakyReLU)   (None, 10, 1, 32)            0         ['conv2d_8[0][0]']            \n",
            "                                                                                                  \n",
            " conv2d_9 (Conv2D)           (None, 10, 1, 64)            2112      ['leaky_re_lu_8[0][0]']       \n",
            "                                                                                                  \n",
            " conv2d_11 (Conv2D)          (None, 10, 1, 64)            2112      ['leaky_re_lu_8[0][0]']       \n",
            "                                                                                                  \n",
            " leaky_re_lu_9 (LeakyReLU)   (None, 10, 1, 64)            0         ['conv2d_9[0][0]']            \n",
            "                                                                                                  \n",
            " leaky_re_lu_11 (LeakyReLU)  (None, 10, 1, 64)            0         ['conv2d_11[0][0]']           \n",
            "                                                                                                  \n",
            " max_pooling2d (MaxPooling2  (None, 10, 1, 32)            0         ['leaky_re_lu_8[0][0]']       \n",
            " D)                                                                                               \n",
            "                                                                                                  \n",
            " conv2d_10 (Conv2D)          (None, 10, 1, 64)            12352     ['leaky_re_lu_9[0][0]']       \n",
            "                                                                                                  \n",
            " conv2d_12 (Conv2D)          (None, 10, 1, 64)            20544     ['leaky_re_lu_11[0][0]']      \n",
            "                                                                                                  \n",
            " conv2d_13 (Conv2D)          (None, 10, 1, 64)            2112      ['max_pooling2d[0][0]']       \n",
            "                                                                                                  \n",
            " leaky_re_lu_10 (LeakyReLU)  (None, 10, 1, 64)            0         ['conv2d_10[0][0]']           \n",
            "                                                                                                  \n",
            " leaky_re_lu_12 (LeakyReLU)  (None, 10, 1, 64)            0         ['conv2d_12[0][0]']           \n",
            "                                                                                                  \n",
            " leaky_re_lu_13 (LeakyReLU)  (None, 10, 1, 64)            0         ['conv2d_13[0][0]']           \n",
            "                                                                                                  \n",
            " concatenate (Concatenate)   (None, 10, 1, 192)           0         ['leaky_re_lu_10[0][0]',      \n",
            "                                                                     'leaky_re_lu_12[0][0]',      \n",
            "                                                                     'leaky_re_lu_13[0][0]']      \n",
            "                                                                                                  \n",
            " reshape (Reshape)           (None, 10, 192)              0         ['concatenate[0][0]']         \n",
            "                                                                                                  \n",
            " dropout (Dropout)           (None, 10, 192)              0         ['reshape[0][0]']             \n",
            "                                                                                                  \n",
            " bidirectional (Bidirection  (None, 10, 128)              131584    ['dropout[0][0]']             \n",
            " al)                                                                                              \n",
            "                                                                                                  \n",
            " attention_layer (Attention  (None, 128)                  16384     ['bidirectional[0][0]']       \n",
            " Layer)                                                                                           \n",
            "                                                                                                  \n",
            " dense (Dense)               (None, 3)                    387       ['attention_layer[0][0]']     \n",
            "                                                                                                  \n",
            "==================================================================================================\n",
            "Total params: 224803 (878.14 KB)\n",
            "Trainable params: 224803 (878.14 KB)\n",
            "Non-trainable params: 0 (0.00 Byte)\n",
            "__________________________________________________________________________________________________\n"
          ]
        }
      ]
    },
    {
      "cell_type": "code",
      "source": [
        "%%time\n",
        "\n",
        "model_checkpoint_callback = tf.keras.callbacks.ModelCheckpoint(\n",
        "    filepath=checkpoint_filepath,\n",
        "    save_weights_only=True,\n",
        "    monitor='val_loss',\n",
        "    mode='auto',\n",
        "    save_best_only=True)\n",
        "\n",
        "deeplob.fit(trainX_CNN, trainY_CNN, validation_data=(valX_CNN, valY_CNN),\n",
        "            epochs=20, batch_size=128, verbose=2, callbacks=[model_checkpoint_callback])"
      ],
      "metadata": {
        "colab": {
          "base_uri": "https://localhost:8080/"
        },
        "id": "9fbF-YRWBgG7",
        "outputId": "5d15a367-a241-4961-99bc-9b61aaf74d81"
      },
      "execution_count": 13,
      "outputs": [
        {
          "output_type": "stream",
          "name": "stdout",
          "text": [
            "Epoch 1/20\n",
            "1593/1593 - 46s - loss: 0.8827 - accuracy: 0.5539 - val_loss: 0.8545 - val_accuracy: 0.5942 - 46s/epoch - 29ms/step\n",
            "Epoch 2/20\n",
            "1593/1593 - 19s - loss: 0.5574 - accuracy: 0.7773 - val_loss: 0.7155 - val_accuracy: 0.6943 - 19s/epoch - 12ms/step\n",
            "Epoch 3/20\n",
            "1593/1593 - 20s - loss: 0.4886 - accuracy: 0.8111 - val_loss: 0.7164 - val_accuracy: 0.6991 - 20s/epoch - 13ms/step\n",
            "Epoch 4/20\n",
            "1593/1593 - 19s - loss: 0.4558 - accuracy: 0.8272 - val_loss: 0.7103 - val_accuracy: 0.7067 - 19s/epoch - 12ms/step\n",
            "Epoch 5/20\n",
            "1593/1593 - 20s - loss: 0.4322 - accuracy: 0.8379 - val_loss: 0.7056 - val_accuracy: 0.7091 - 20s/epoch - 12ms/step\n",
            "Epoch 6/20\n",
            "1593/1593 - 20s - loss: 0.4111 - accuracy: 0.8472 - val_loss: 0.7200 - val_accuracy: 0.7039 - 20s/epoch - 12ms/step\n",
            "Epoch 7/20\n",
            "1593/1593 - 20s - loss: 0.3968 - accuracy: 0.8533 - val_loss: 0.7273 - val_accuracy: 0.7097 - 20s/epoch - 13ms/step\n",
            "Epoch 8/20\n",
            "1593/1593 - 19s - loss: 0.3817 - accuracy: 0.8597 - val_loss: 0.7514 - val_accuracy: 0.6969 - 19s/epoch - 12ms/step\n",
            "Epoch 9/20\n",
            "1593/1593 - 20s - loss: 0.3712 - accuracy: 0.8641 - val_loss: 0.7539 - val_accuracy: 0.7000 - 20s/epoch - 13ms/step\n",
            "Epoch 10/20\n",
            "1593/1593 - 20s - loss: 0.3583 - accuracy: 0.8692 - val_loss: 0.7958 - val_accuracy: 0.7069 - 20s/epoch - 13ms/step\n",
            "Epoch 11/20\n",
            "1593/1593 - 19s - loss: 0.3504 - accuracy: 0.8723 - val_loss: 0.7705 - val_accuracy: 0.6927 - 19s/epoch - 12ms/step\n",
            "Epoch 12/20\n",
            "1593/1593 - 20s - loss: 0.3414 - accuracy: 0.8761 - val_loss: 0.8016 - val_accuracy: 0.6971 - 20s/epoch - 12ms/step\n",
            "Epoch 13/20\n",
            "1593/1593 - 19s - loss: 0.3344 - accuracy: 0.8788 - val_loss: 0.8282 - val_accuracy: 0.6887 - 19s/epoch - 12ms/step\n",
            "Epoch 14/20\n",
            "1593/1593 - 21s - loss: 0.3277 - accuracy: 0.8818 - val_loss: 0.8055 - val_accuracy: 0.6984 - 21s/epoch - 13ms/step\n",
            "Epoch 15/20\n",
            "1593/1593 - 21s - loss: 0.3201 - accuracy: 0.8843 - val_loss: 0.8309 - val_accuracy: 0.6916 - 21s/epoch - 13ms/step\n",
            "Epoch 16/20\n",
            "1593/1593 - 19s - loss: 0.3151 - accuracy: 0.8867 - val_loss: 0.8626 - val_accuracy: 0.6841 - 19s/epoch - 12ms/step\n",
            "Epoch 17/20\n",
            "1593/1593 - 20s - loss: 0.3112 - accuracy: 0.8885 - val_loss: 0.8600 - val_accuracy: 0.6861 - 20s/epoch - 13ms/step\n",
            "Epoch 18/20\n",
            "1593/1593 - 20s - loss: 0.3069 - accuracy: 0.8893 - val_loss: 0.8530 - val_accuracy: 0.6869 - 20s/epoch - 12ms/step\n",
            "Epoch 19/20\n",
            "1593/1593 - 19s - loss: 0.3015 - accuracy: 0.8914 - val_loss: 0.8520 - val_accuracy: 0.6936 - 19s/epoch - 12ms/step\n",
            "Epoch 20/20\n",
            "1593/1593 - 19s - loss: 0.2995 - accuracy: 0.8923 - val_loss: 0.8894 - val_accuracy: 0.6889 - 19s/epoch - 12ms/step\n",
            "CPU times: user 7min 25s, sys: 22.8 s, total: 7min 48s\n",
            "Wall time: 7min 1s\n"
          ]
        },
        {
          "output_type": "execute_result",
          "data": {
            "text/plain": [
              "<keras.src.callbacks.History at 0x7d52feb97ca0>"
            ]
          },
          "metadata": {},
          "execution_count": 13
        }
      ]
    },
    {
      "cell_type": "code",
      "source": [
        "deeplob.load_weights(checkpoint_filepath)\n",
        "pred = deeplob.predict(testX_CNN)"
      ],
      "metadata": {
        "colab": {
          "base_uri": "https://localhost:8080/"
        },
        "id": "w-26dzYHLek4",
        "outputId": "d6d7644d-825a-46e3-f6cc-2d111a44ae65"
      },
      "execution_count": 14,
      "outputs": [
        {
          "output_type": "stream",
          "name": "stdout",
          "text": [
            "4995/4995 [==============================] - 22s 4ms/step\n"
          ]
        }
      ]
    },
    {
      "cell_type": "code",
      "source": [
        "print('accuracy_score:', accuracy_score(np.argmax(testY_CNN, axis=1), np.argmax(pred, axis=1)))\n",
        "print(classification_report(np.argmax(testY_CNN, axis=1), np.argmax(pred, axis=1), digits=4))"
      ],
      "metadata": {
        "colab": {
          "base_uri": "https://localhost:8080/"
        },
        "id": "XX2UQWkJLizk",
        "outputId": "2f76e22c-28cf-4bd2-8140-ae6943d00e36"
      },
      "execution_count": 15,
      "outputs": [
        {
          "output_type": "stream",
          "name": "stdout",
          "text": [
            "accuracy_score: 0.7959114715323534\n",
            "              precision    recall  f1-score   support\n",
            "\n",
            "           0     0.7923    0.7716    0.7818     53063\n",
            "           1     0.8493    0.8129    0.8307     57151\n",
            "           2     0.7447    0.8024    0.7725     49599\n",
            "\n",
            "    accuracy                         0.7959    159813\n",
            "   macro avg     0.7955    0.7956    0.7950    159813\n",
            "weighted avg     0.7979    0.7959    0.7964    159813\n",
            "\n"
          ]
        }
      ]
    },
    {
      "cell_type": "code",
      "source": [
        "from sklearn.metrics import accuracy_score, classification_report, confusion_matrix, ConfusionMatrixDisplay\n",
        "c = confusion_matrix(np.argmax(testY_CNN, axis=1), np.argmax(pred, axis=1), normalize=\"true\")\n",
        "disp = ConfusionMatrixDisplay(c)\n",
        "disp.plot()\n",
        "plt.show()"
      ],
      "metadata": {
        "colab": {
          "base_uri": "https://localhost:8080/",
          "height": 449
        },
        "id": "qkha5y5ILSi6",
        "outputId": "5413b0e9-b71b-428c-9fe1-dd2e624e01bf"
      },
      "execution_count": 16,
      "outputs": [
        {
          "output_type": "display_data",
          "data": {
            "text/plain": [
              "<Figure size 640x480 with 2 Axes>"
            ],
            "image/png": "[encoded data removed]"
          },
          "metadata": {}
        }
      ]
    }
  ]
}